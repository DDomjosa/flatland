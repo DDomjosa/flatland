{
 "cells": [
  {
   "cell_type": "code",
   "execution_count": 2,
   "id": "a98047ad",
   "metadata": {
    "executionInfo": {
     "elapsed": 33,
     "status": "ok",
     "timestamp": 1667736365400,
     "user": {
      "displayName": "DDomjosa",
      "userId": "08635069532973972876"
     },
     "user_tz": -120
    },
    "id": "10f6d9b8"
   },
   "outputs": [
    {
     "data": {
      "text/plain": [
       "[PhysicalDevice(name='/physical_device:CPU:0', device_type='CPU'),\n",
       " PhysicalDevice(name='/physical_device:GPU:0', device_type='GPU'),\n",
       " PhysicalDevice(name='/physical_device:GPU:1', device_type='GPU')]"
      ]
     },
     "execution_count": 2,
     "metadata": {},
     "output_type": "execute_result"
    }
   ],
   "source": [
    "import tensorflow as tf\n",
    "from tensorflow import keras\n",
    "from keras import layers\n",
    "from collections import Counter\n",
    "import matplotlib.pyplot as plt\n",
    "import pandas as pd\n",
    "import numpy as np\n",
    "\n",
    "tf.config.list_physical_devices()"
   ]
  },
  {
   "cell_type": "code",
   "execution_count": 3,
   "id": "75ad9324",
   "metadata": {
    "executionInfo": {
     "elapsed": 374,
     "status": "ok",
     "timestamp": 1667736374562,
     "user": {
      "displayName": "DDomjosa",
      "userId": "08635069532973972876"
     },
     "user_tz": -120
    },
    "id": "3e783b3c"
   },
   "outputs": [],
   "source": [
    "data = np.load('flatland_train.npz')\n",
    "X = data['X']\n",
    "y = data['y']\n",
    "y[y != 0] -= 2    # Correct labels so that triangle is mapped to class 1\n",
    "X = X.reshape(X.shape[0], 50, 50, 1) / 255"
   ]
  },
  {
   "cell_type": "code",
   "execution_count": 4,
   "id": "da138b13",
   "metadata": {
    "colab": {
     "base_uri": "https://localhost:8080/"
    },
    "executionInfo": {
     "elapsed": 14,
     "status": "ok",
     "timestamp": 1667736374562,
     "user": {
      "displayName": "DDomjosa",
      "userId": "08635069532973972876"
     },
     "user_tz": -120
    },
    "id": "5b3a4235",
    "outputId": "50a4aa12-cd7b-4843-c3f5-e7b0af2244ca"
   },
   "outputs": [
    {
     "data": {
      "text/plain": [
       "<matplotlib.image.AxesImage at 0x14783272b50>"
      ]
     },
     "execution_count": 4,
     "metadata": {},
     "output_type": "execute_result"
    },
    {
     "data": {
      "image/png": "[encoded data removed]",
      "text/plain": [
       "<Figure size 640x480 with 1 Axes>"
      ]
     },
     "metadata": {},
     "output_type": "display_data"
    }
   ],
   "source": [
    "plt.imshow(X[5], cmap = 'gray')"
   ]
  },
  {
   "cell_type": "code",
   "execution_count": 5,
   "id": "22eacc52",
   "metadata": {},
   "outputs": [
    {
     "data": {
      "text/plain": [
       "(10000, 50, 50, 1)"
      ]
     },
     "execution_count": 5,
     "metadata": {},
     "output_type": "execute_result"
    }
   ],
   "source": [
    "X.shape"
   ]
  },
  {
   "cell_type": "code",
   "execution_count": 6,
   "id": "0324488d",
   "metadata": {
    "colab": {
     "base_uri": "https://localhost:8080/"
    },
    "executionInfo": {
     "elapsed": 14,
     "status": "ok",
     "timestamp": 1667736374563,
     "user": {
      "displayName": "DDomjosa",
      "userId": "08635069532973972876"
     },
     "user_tz": -120
    },
    "id": "9a8117e0",
    "outputId": "60207a8f-c6ad-4630-dc88-d574189ec8d0",
    "scrolled": true
   },
   "outputs": [
    {
     "data": {
      "text/plain": [
       "Counter({2.0: 1868, 4.0: 1761, 3.0: 2137, 1.0: 2853, 0.0: 1381})"
      ]
     },
     "execution_count": 6,
     "metadata": {},
     "output_type": "execute_result"
    }
   ],
   "source": [
    "Counter(y)"
   ]
  },
  {
   "cell_type": "code",
   "execution_count": 7,
   "id": "0133a22e",
   "metadata": {
    "executionInfo": {
     "elapsed": 346,
     "status": "ok",
     "timestamp": 1667736375433,
     "user": {
      "displayName": "DDomjosa",
      "userId": "08635069532973972876"
     },
     "user_tz": -120
    },
    "id": "17798147"
   },
   "outputs": [],
   "source": [
    "#X_train_aug = np.concatenate([X_train, X_train[..., ::-1]])\n",
    "#y_train_aug = np.concatenate([y_train, y_train])"
   ]
  },
  {
   "cell_type": "code",
   "execution_count": 28,
   "id": "26d5e1fa",
   "metadata": {
    "scrolled": false
   },
   "outputs": [
    {
     "name": "stdout",
     "output_type": "stream",
     "text": [
      "Model: \"model_16\"\n",
      "_________________________________________________________________\n",
      " Layer (type)                Output Shape              Param #   \n",
      "=================================================================\n",
      " input_19 (InputLayer)       [(None, 50, 50, 1)]       0         \n",
      "                                                                 \n",
      " random_flip_18 (RandomFlip)  (None, 50, 50, 1)        0         \n",
      "                                                                 \n",
      " conv2d_54 (Conv2D)          (None, 48, 48, 32)        320       \n",
      "                                                                 \n",
      " max_pooling2d_42 (MaxPoolin  (None, 24, 24, 32)       0         \n",
      " g2D)                                                            \n",
      "                                                                 \n",
      " conv2d_55 (Conv2D)          (None, 22, 22, 64)        18496     \n",
      "                                                                 \n",
      " max_pooling2d_43 (MaxPoolin  (None, 11, 11, 64)       0         \n",
      " g2D)                                                            \n",
      "                                                                 \n",
      " conv2d_56 (Conv2D)          (None, 9, 9, 128)         73856     \n",
      "                                                                 \n",
      " max_pooling2d_44 (MaxPoolin  (None, 4, 4, 128)        0         \n",
      " g2D)                                                            \n",
      "                                                                 \n",
      " flatten_18 (Flatten)        (None, 2048)              0         \n",
      "                                                                 \n",
      " dense_93 (Dense)            (None, 512)               1049088   \n",
      "                                                                 \n",
      " dropout_87 (Dropout)        (None, 512)               0         \n",
      "                                                                 \n",
      " dense_94 (Dense)            (None, 512)               262656    \n",
      "                                                                 \n",
      " dropout_88 (Dropout)        (None, 512)               0         \n",
      "                                                                 \n",
      " dense_95 (Dense)            (None, 512)               262656    \n",
      "                                                                 \n",
      " dropout_89 (Dropout)        (None, 512)               0         \n",
      "                                                                 \n",
      " dense_96 (Dense)            (None, 128)               65664     \n",
      "                                                                 \n",
      " dropout_90 (Dropout)        (None, 128)               0         \n",
      "                                                                 \n",
      " dense_97 (Dense)            (None, 5)                 645       \n",
      "                                                                 \n",
      "=================================================================\n",
      "Total params: 1,733,381\n",
      "Trainable params: 1,733,381\n",
      "Non-trainable params: 0\n",
      "_________________________________________________________________\n",
      "Epoch 1/30\n",
      "250/250 [==============================] - 7s 26ms/step - loss: 1.5572 - accuracy: 0.2691 - val_loss: 1.4256 - val_accuracy: 0.3410\n",
      "Epoch 2/30\n",
      "250/250 [==============================] - 6s 25ms/step - loss: 1.1368 - accuracy: 0.4985 - val_loss: 0.8012 - val_accuracy: 0.6730\n",
      "Epoch 3/30\n",
      "250/250 [==============================] - 6s 25ms/step - loss: 0.7607 - accuracy: 0.6745 - val_loss: 0.4396 - val_accuracy: 0.8170\n",
      "Epoch 4/30\n",
      "250/250 [==============================] - 6s 25ms/step - loss: 0.5492 - accuracy: 0.7860 - val_loss: 0.3279 - val_accuracy: 0.9270\n",
      "Epoch 5/30\n",
      "250/250 [==============================] - 6s 25ms/step - loss: 0.4089 - accuracy: 0.8718 - val_loss: 0.2548 - val_accuracy: 0.9420\n",
      "Epoch 6/30\n",
      "250/250 [==============================] - 6s 25ms/step - loss: 0.3032 - accuracy: 0.9311 - val_loss: 0.1494 - val_accuracy: 0.9720\n",
      "Epoch 7/30\n",
      "250/250 [==============================] - 6s 25ms/step - loss: 0.2152 - accuracy: 0.9589 - val_loss: 0.1629 - val_accuracy: 0.9635\n",
      "Epoch 8/30\n",
      "250/250 [==============================] - 6s 25ms/step - loss: 0.1884 - accuracy: 0.9706 - val_loss: 0.2038 - val_accuracy: 0.9510\n",
      "Epoch 9/30\n",
      "250/250 [==============================] - 6s 25ms/step - loss: 0.1833 - accuracy: 0.9659 - val_loss: 0.2599 - val_accuracy: 0.9435\n",
      "Epoch 10/30\n",
      "250/250 [==============================] - 6s 25ms/step - loss: 0.1577 - accuracy: 0.9731 - val_loss: 0.1784 - val_accuracy: 0.9580\n",
      "Epoch 11/30\n",
      "250/250 [==============================] - 6s 25ms/step - loss: 0.1564 - accuracy: 0.9730 - val_loss: 0.2885 - val_accuracy: 0.8990\n",
      "Epoch 12/30\n",
      "250/250 [==============================] - 6s 25ms/step - loss: 0.1709 - accuracy: 0.9648 - val_loss: 0.1711 - val_accuracy: 0.9640\n",
      "Epoch 13/30\n",
      "250/250 [==============================] - 6s 25ms/step - loss: 0.1329 - accuracy: 0.9805 - val_loss: 0.2858 - val_accuracy: 0.9260\n",
      "Epoch 14/30\n",
      "250/250 [==============================] - 6s 25ms/step - loss: 0.1254 - accuracy: 0.9784 - val_loss: 0.3226 - val_accuracy: 0.9200\n",
      "Epoch 15/30\n",
      "250/250 [==============================] - 6s 25ms/step - loss: 0.1323 - accuracy: 0.9744 - val_loss: 0.2050 - val_accuracy: 0.9435\n",
      "Epoch 16/30\n",
      "250/250 [==============================] - 6s 25ms/step - loss: 0.1109 - accuracy: 0.9789 - val_loss: 0.6623 - val_accuracy: 0.8515\n",
      "Epoch 17/30\n",
      "250/250 [==============================] - 6s 25ms/step - loss: 0.1275 - accuracy: 0.9763 - val_loss: 0.2524 - val_accuracy: 0.9350\n",
      "Epoch 18/30\n",
      "250/250 [==============================] - 6s 25ms/step - loss: 0.1190 - accuracy: 0.9759 - val_loss: 0.2705 - val_accuracy: 0.9065\n",
      "Epoch 19/30\n",
      "250/250 [==============================] - 6s 25ms/step - loss: 0.1016 - accuracy: 0.9798 - val_loss: 0.2827 - val_accuracy: 0.9040\n",
      "Epoch 20/30\n",
      "250/250 [==============================] - 6s 25ms/step - loss: 0.1067 - accuracy: 0.9790 - val_loss: 0.2863 - val_accuracy: 0.9130\n",
      "Epoch 21/30\n",
      "250/250 [==============================] - 6s 25ms/step - loss: 0.1036 - accuracy: 0.9749 - val_loss: 0.2879 - val_accuracy: 0.9145\n",
      "Epoch 22/30\n",
      "250/250 [==============================] - 6s 25ms/step - loss: 0.0884 - accuracy: 0.9818 - val_loss: 0.4146 - val_accuracy: 0.9185\n",
      "Epoch 23/30\n",
      "250/250 [==============================] - 7s 27ms/step - loss: 0.1041 - accuracy: 0.9744 - val_loss: 0.2659 - val_accuracy: 0.9250\n",
      "Epoch 24/30\n",
      "250/250 [==============================] - 7s 28ms/step - loss: 0.0892 - accuracy: 0.9811 - val_loss: 0.3694 - val_accuracy: 0.8950\n",
      "Epoch 25/30\n",
      "250/250 [==============================] - 7s 28ms/step - loss: 0.0936 - accuracy: 0.9796 - val_loss: 0.5442 - val_accuracy: 0.9000\n",
      "Epoch 26/30\n",
      "250/250 [==============================] - 7s 27ms/step - loss: 0.0849 - accuracy: 0.9791 - val_loss: 0.3658 - val_accuracy: 0.8845\n",
      "Epoch 27/30\n",
      "250/250 [==============================] - 6s 25ms/step - loss: 0.0815 - accuracy: 0.9801 - val_loss: 0.4405 - val_accuracy: 0.9010\n",
      "Epoch 28/30\n",
      "250/250 [==============================] - 6s 25ms/step - loss: 0.0787 - accuracy: 0.9798 - val_loss: 0.4140 - val_accuracy: 0.9070\n",
      "Epoch 29/30\n",
      "250/250 [==============================] - 6s 25ms/step - loss: 0.0642 - accuracy: 0.9843 - val_loss: 0.4335 - val_accuracy: 0.9090\n",
      "Epoch 30/30\n",
      "250/250 [==============================] - 6s 25ms/step - loss: 0.0694 - accuracy: 0.9829 - val_loss: 0.6248 - val_accuracy: 0.8350\n"
     ]
    }
   ],
   "source": [
    "inp = keras.layers.Input(shape = (50, 50, 1));\n",
    "out = keras.layers.RandomFlip(\"horizontal_and_vertical\")(inp);\n",
    "#out = keras.layers.RandomRotation(0.2)(out);\n",
    "#out = keras.layers.RandomZoom(0.2, 0.2)(out);\n",
    "out = keras.layers.Conv2D(32, kernel_size=(3, 3), activation='relu', input_shape=[50, 50])(out);\n",
    "out = keras.layers.MaxPooling2D(pool_size=(2, 2))(out);\n",
    "out = keras.layers.Conv2D(64, kernel_size=(3, 3), activation='relu')(out);\n",
    "out = keras.layers.MaxPooling2D(pool_size=(2, 2))(out);\n",
    "out = keras.layers.Conv2D(128, kernel_size=(3, 3), activation='relu')(out);\n",
    "out = keras.layers.MaxPooling2D(pool_size=(2, 2))(out);\n",
    "out = keras.layers.Flatten()(out);\n",
    "out = keras.layers.Dense(512, activation = 'relu')(out);\n",
    "out = keras.layers.Dropout(0.6)(out);\n",
    "out = keras.layers.Dense(512, activation = 'relu')(out);\n",
    "out = keras.layers.Dropout(0.6)(out);\n",
    "out = keras.layers.Dense(512, activation = 'relu')(out);\n",
    "out = keras.layers.Dropout(0.6)(out);\n",
    "out = keras.layers.Dense(128, activation = 'relu')(out);\n",
    "out = keras.layers.Dropout(0.6)(out);\n",
    "out = keras.layers.Dense(5, activation = 'softmax')(out);\n",
    "\n",
    "\n",
    "checkpoint = keras.callbacks.ModelCheckpoint(filepath =  'model.h5', monitor = 'val_loss', save_best_only = True, mode = 'min');\n",
    "\n",
    "model = keras.models.Model(inputs = inp, outputs = out);\n",
    "model.compile(optimizer = keras.optimizers.Adam(learning_rate = 3e-4), loss = 'sparse_categorical_crossentropy', metrics = ['accuracy']);\n",
    "model.summary();\n",
    "\n",
    "hist = model.fit(X, y, validation_split = 0.2, epochs = 30, callbacks = [checkpoint]);\n",
    "model = tf.keras.models.load_model('model.h5');"
   ]
  },
  {
   "cell_type": "code",
   "execution_count": 32,
   "id": "e8b0683f",
   "metadata": {
    "id": "3d888d83"
   },
   "outputs": [
    {
     "data": {
      "image/png": "[encoded data removed]",
      "text/plain": [
       "<Figure size 640x480 with 1 Axes>"
      ]
     },
     "metadata": {},
     "output_type": "display_data"
    }
   ],
   "source": [
    "pd.DataFrame(hist.history).plot()\n",
    "model.save('model.h5')"
   ]
  },
  {
   "cell_type": "code",
   "execution_count": null,
   "id": "fcd5142d",
   "metadata": {
    "colab": {
     "background_save": true,
     "base_uri": "https://localhost:8080/"
    },
    "id": "d3e25e03",
    "scrolled": false
   },
   "outputs": [
    {
     "name": "stdout",
     "output_type": "stream",
     "text": [
      "Model: \"model_20\"\n",
      "_________________________________________________________________\n",
      " Layer (type)                Output Shape              Param #   \n",
      "=================================================================\n",
      " input_25 (InputLayer)       [(None, 50, 50, 1)]       0         \n",
      "                                                                 \n",
      " conv2d_71 (Conv2D)          (None, 48, 48, 32)        320       \n",
      "                                                                 \n",
      " max_pooling2d_57 (MaxPoolin  (None, 24, 24, 32)       0         \n",
      " g2D)                                                            \n",
      "                                                                 \n",
      " conv2d_72 (Conv2D)          (None, 22, 22, 64)        18496     \n",
      "                                                                 \n",
      " max_pooling2d_58 (MaxPoolin  (None, 11, 11, 64)       0         \n",
      " g2D)                                                            \n",
      "                                                                 \n",
      " conv2d_73 (Conv2D)          (None, 9, 9, 128)         73856     \n",
      "                                                                 \n",
      " max_pooling2d_59 (MaxPoolin  (None, 4, 4, 128)        0         \n",
      " g2D)                                                            \n",
      "                                                                 \n",
      " conv2d_74 (Conv2D)          (None, 2, 2, 512)         590336    \n",
      "                                                                 \n",
      " max_pooling2d_60 (MaxPoolin  (None, 1, 1, 512)        0         \n",
      " g2D)                                                            \n",
      "                                                                 \n",
      " flatten_22 (Flatten)        (None, 512)               0         \n",
      "                                                                 \n",
      " dropout_107 (Dropout)       (None, 512)               0         \n",
      "                                                                 \n",
      " dense_114 (Dense)           (None, 512)               262656    \n",
      "                                                                 \n",
      " dropout_108 (Dropout)       (None, 512)               0         \n",
      "                                                                 \n",
      " dense_115 (Dense)           (None, 512)               262656    \n",
      "                                                                 \n",
      " dropout_109 (Dropout)       (None, 512)               0         \n",
      "                                                                 \n",
      " dense_116 (Dense)           (None, 512)               262656    \n",
      "                                                                 \n",
      " dropout_110 (Dropout)       (None, 512)               0         \n",
      "                                                                 \n",
      " dense_117 (Dense)           (None, 128)               65664     \n",
      "                                                                 \n",
      " dropout_111 (Dropout)       (None, 128)               0         \n",
      "                                                                 \n",
      " dense_118 (Dense)           (None, 5)                 645       \n",
      "                                                                 \n",
      "=================================================================\n",
      "Total params: 1,537,285\n",
      "Trainable params: 1,537,285\n",
      "Non-trainable params: 0\n",
      "_________________________________________________________________\n",
      "Epoch 1/50\n",
      "250/250 [==============================] - 4s 13ms/step - loss: 1.5261 - accuracy: 0.2746 - val_loss: 1.2329 - val_accuracy: 0.4095\n",
      "Epoch 2/50\n",
      "250/250 [==============================] - 3s 12ms/step - loss: 1.1409 - accuracy: 0.4986 - val_loss: 0.8547 - val_accuracy: 0.6995\n",
      "Epoch 3/50\n",
      "250/250 [==============================] - 3s 12ms/step - loss: 0.7690 - accuracy: 0.6881 - val_loss: 0.4143 - val_accuracy: 0.8225\n",
      "Epoch 4/50\n",
      "250/250 [==============================] - 3s 12ms/step - loss: 0.5105 - accuracy: 0.7944 - val_loss: 0.3167 - val_accuracy: 0.8455\n",
      "Epoch 5/50\n",
      "250/250 [==============================] - 3s 12ms/step - loss: 0.4100 - accuracy: 0.8329 - val_loss: 0.2868 - val_accuracy: 0.8535\n",
      "Epoch 6/50\n",
      "250/250 [==============================] - 3s 12ms/step - loss: 0.3388 - accuracy: 0.8971 - val_loss: 0.1528 - val_accuracy: 0.9775\n",
      "Epoch 7/50\n",
      "250/250 [==============================] - 3s 12ms/step - loss: 0.2386 - accuracy: 0.9539 - val_loss: 0.1022 - val_accuracy: 0.9880\n",
      "Epoch 8/50\n",
      "250/250 [==============================] - 3s 12ms/step - loss: 0.1842 - accuracy: 0.9715 - val_loss: 0.1011 - val_accuracy: 0.9875\n",
      "Epoch 9/50\n",
      "250/250 [==============================] - 3s 12ms/step - loss: 0.1629 - accuracy: 0.9755 - val_loss: 0.1114 - val_accuracy: 0.9850\n",
      "Epoch 10/50\n",
      "250/250 [==============================] - 3s 12ms/step - loss: 0.1645 - accuracy: 0.9749 - val_loss: 0.1239 - val_accuracy: 0.9775\n",
      "Epoch 11/50\n",
      "250/250 [==============================] - 3s 12ms/step - loss: 0.1575 - accuracy: 0.9735 - val_loss: 0.1101 - val_accuracy: 0.9830\n",
      "Epoch 12/50\n",
      "250/250 [==============================] - 3s 12ms/step - loss: 0.1473 - accuracy: 0.9725 - val_loss: 0.1081 - val_accuracy: 0.9885\n",
      "Epoch 13/50\n",
      "250/250 [==============================] - 3s 12ms/step - loss: 0.1561 - accuracy: 0.9705 - val_loss: 0.1174 - val_accuracy: 0.9840\n",
      "Epoch 14/50\n",
      "250/250 [==============================] - 3s 12ms/step - loss: 0.1290 - accuracy: 0.9775 - val_loss: 0.0966 - val_accuracy: 0.9895\n",
      "Epoch 15/50\n",
      "250/250 [==============================] - 3s 12ms/step - loss: 0.1333 - accuracy: 0.9760 - val_loss: 0.1826 - val_accuracy: 0.9545\n",
      "Epoch 16/50\n",
      "250/250 [==============================] - 3s 12ms/step - loss: 0.1355 - accuracy: 0.9763 - val_loss: 0.1012 - val_accuracy: 0.9885\n",
      "Epoch 17/50\n",
      "250/250 [==============================] - 3s 12ms/step - loss: 0.1158 - accuracy: 0.9770 - val_loss: 0.1104 - val_accuracy: 0.9880\n",
      "Epoch 18/50\n",
      "250/250 [==============================] - 3s 12ms/step - loss: 0.1145 - accuracy: 0.9779 - val_loss: 0.1221 - val_accuracy: 0.9875\n",
      "Epoch 19/50\n",
      "250/250 [==============================] - 3s 12ms/step - loss: 0.0992 - accuracy: 0.9821 - val_loss: 0.1396 - val_accuracy: 0.9810\n",
      "Epoch 20/50\n",
      "250/250 [==============================] - 3s 12ms/step - loss: 0.1146 - accuracy: 0.9785 - val_loss: 0.1293 - val_accuracy: 0.9875\n",
      "Epoch 21/50\n",
      "250/250 [==============================] - 3s 12ms/step - loss: 0.1035 - accuracy: 0.9800 - val_loss: 0.1258 - val_accuracy: 0.9880\n",
      "Epoch 22/50\n",
      "250/250 [==============================] - 3s 12ms/step - loss: 0.1063 - accuracy: 0.9800 - val_loss: 0.1289 - val_accuracy: 0.9860\n",
      "Epoch 23/50\n",
      "250/250 [==============================] - 3s 12ms/step - loss: 0.0983 - accuracy: 0.9808 - val_loss: 0.1262 - val_accuracy: 0.9885\n",
      "Epoch 24/50\n",
      "  5/250 [..............................] - ETA: 3s - loss: 0.0996 - accuracy: 0.9750"
     ]
    }
   ],
   "source": [
    "inp = keras.layers.Input(shape = (50, 50, 1));\n",
    "#out = keras.layers.RandomFlip(\"horizontal_and_vertical\")(inp);\n",
    "#out = keras.layers.RandomRotation(0.2)(out);\n",
    "#out = keras.layers.RandomZoom(0.2, 0.2)(out);\n",
    "out = keras.layers.Conv2D(32, kernel_size=(3, 3), activation='relu', input_shape=[50, 50, 1])(inp);\n",
    "out = keras.layers.MaxPooling2D(pool_size=(2, 2))(out);\n",
    "out = keras.layers.Conv2D(64, kernel_size=(3, 3), activation='relu')(out);\n",
    "out = keras.layers.MaxPooling2D(pool_size=(2, 2))(out);\n",
    "out = keras.layers.Conv2D(128, kernel_size=(3, 3), activation='relu')(out);\n",
    "out = keras.layers.MaxPooling2D(pool_size=(2, 2))(out);\n",
    "out = keras.layers.Conv2D(512, kernel_size=(3, 3), activation='relu')(out);\n",
    "out = keras.layers.MaxPooling2D(pool_size=(2, 2))(out);\n",
    "out = keras.layers.Flatten()(out);\n",
    "out = keras.layers.Dropout(0.4)(out);\n",
    "out = keras.layers.Dense(512, activation = 'relu')(out);\n",
    "out = keras.layers.Dropout(0.6)(out);\n",
    "out = keras.layers.Dense(512, activation = 'relu')(out);\n",
    "out = keras.layers.Dropout(0.6)(out);\n",
    "out = keras.layers.Dense(512, activation = 'relu')(out);\n",
    "out = keras.layers.Dropout(0.6)(out);\n",
    "out = keras.layers.Dense(128, activation = 'relu')(out);\n",
    "out = keras.layers.Dropout(0.6)(out);\n",
    "out = keras.layers.Dense(5, activation = 'softmax')(out);\n",
    "\n",
    "\n",
    "checkpoint = keras.callbacks.ModelCheckpoint(filepath =  'model.h5', monitor = 'val_loss', save_best_only = True, mode = 'min');\n",
    "\n",
    "model = keras.models.Model(inputs = inp, outputs = out);\n",
    "model.compile(optimizer = keras.optimizers.Adam(learning_rate = 3e-4), loss = 'sparse_categorical_crossentropy', metrics = ['accuracy']);\n",
    "model.summary();\n",
    "\n",
    "hist = model.fit(X, y, validation_split = 0.2, epochs = 50, callbacks = [checkpoint]);\n",
    "model = tf.keras.models.load_model('model.h5');"
   ]
  },
  {
   "cell_type": "code",
   "execution_count": null,
   "id": "f82b7914",
   "metadata": {},
   "outputs": [],
   "source": []
  }
 ],
 "metadata": {
  "accelerator": "GPU",
  "colab": {
   "collapsed_sections": [],
   "name": "",
   "version": ""
  },
  "gpuClass": "standard",
  "kernelspec": {
   "display_name": "Python [conda env:py3.9]",
   "language": "python",
   "name": "conda-env-py3.9-py"
  },
  "language_info": {
   "codemirror_mode": {
    "name": "ipython",
    "version": 3
   },
   "file_extension": ".py",
   "mimetype": "text/x-python",
   "name": "python",
   "nbconvert_exporter": "python",
   "pygments_lexer": "ipython3",
   "version": "3.9.13"
  }
 },
 "nbformat": 4,
 "nbformat_minor": 5
}
