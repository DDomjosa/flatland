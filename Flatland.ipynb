{
 "cells": [
  {
   "cell_type": "code",
   "execution_count": 2,
   "id": "a98047ad",
   "metadata": {
    "executionInfo": {
     "elapsed": 33,
     "status": "ok",
     "timestamp": 1667736365400,
     "user": {
      "displayName": "DDomjosa",
      "userId": "08635069532973972876"
     },
     "user_tz": -120
    },
    "id": "10f6d9b8"
   },
   "outputs": [
    {
     "data": {
      "text/plain": [
       "[PhysicalDevice(name='/physical_device:CPU:0', device_type='CPU'),\n",
       " PhysicalDevice(name='/physical_device:GPU:0', device_type='GPU'),\n",
       " PhysicalDevice(name='/physical_device:GPU:1', device_type='GPU')]"
      ]
     },
     "execution_count": 2,
     "metadata": {},
     "output_type": "execute_result"
    }
   ],
   "source": [
    "import tensorflow as tf\n",
    "from tensorflow import keras\n",
    "from keras import layers\n",
    "from collections import Counter\n",
    "import matplotlib.pyplot as plt\n",
    "import pandas as pd\n",
    "import numpy as np\n",
    "\n",
    "tf.config.list_physical_devices()"
   ]
  },
  {
   "cell_type": "code",
   "execution_count": 3,
   "id": "75ad9324",
   "metadata": {
    "executionInfo": {
     "elapsed": 374,
     "status": "ok",
     "timestamp": 1667736374562,
     "user": {
      "displayName": "DDomjosa",
      "userId": "08635069532973972876"
     },
     "user_tz": -120
    },
    "id": "3e783b3c"
   },
   "outputs": [],
   "source": [
    "data = np.load('flatland_train.npz')\n",
    "X = data['X']\n",
    "y = data['y']\n",
    "y[y != 0] -= 2    # Correct labels so that triangle is mapped to class 1\n",
    "X = X.reshape(X.shape[0], 50, 50, 1) / 255"
   ]
  },
  {
   "cell_type": "code",
   "execution_count": 4,
   "id": "da138b13",
   "metadata": {
    "colab": {
     "base_uri": "https://localhost:8080/"
    },
    "executionInfo": {
     "elapsed": 14,
     "status": "ok",
     "timestamp": 1667736374562,
     "user": {
      "displayName": "DDomjosa",
      "userId": "08635069532973972876"
     },
     "user_tz": -120
    },
    "id": "5b3a4235",
    "outputId": "50a4aa12-cd7b-4843-c3f5-e7b0af2244ca"
   },
   "outputs": [
    {
     "data": {
      "text/plain": [
       "<matplotlib.image.AxesImage at 0x14783272b50>"
      ]
     },
     "execution_count": 4,
     "metadata": {},
     "output_type": "execute_result"
    },
    {
     "data": {
      "image/png": "[encoded data removed]",
      "text/plain": [
       "<Figure size 640x480 with 1 Axes>"
      ]
     },
     "metadata": {},
     "output_type": "display_data"
    }
   ],
   "source": [
    "plt.imshow(X[5], cmap = 'gray')"
   ]
  },
  {
   "cell_type": "code",
   "execution_count": 5,
   "id": "22eacc52",
   "metadata": {},
   "outputs": [
    {
     "data": {
      "text/plain": [
       "(10000, 50, 50, 1)"
      ]
     },
     "execution_count": 5,
     "metadata": {},
     "output_type": "execute_result"
    }
   ],
   "source": [
    "X.shape"
   ]
  },
  {
   "cell_type": "code",
   "execution_count": 6,
   "id": "0324488d",
   "metadata": {
    "colab": {
     "base_uri": "https://localhost:8080/"
    },
    "executionInfo": {
     "elapsed": 14,
     "status": "ok",
     "timestamp": 1667736374563,
     "user": {
      "displayName": "DDomjosa",
      "userId": "08635069532973972876"
     },
     "user_tz": -120
    },
    "id": "9a8117e0",
    "outputId": "60207a8f-c6ad-4630-dc88-d574189ec8d0",
    "scrolled": true
   },
   "outputs": [
    {
     "data": {
      "text/plain": [
       "Counter({2.0: 1868, 4.0: 1761, 3.0: 2137, 1.0: 2853, 0.0: 1381})"
      ]
     },
     "execution_count": 6,
     "metadata": {},
     "output_type": "execute_result"
    }
   ],
   "source": [
    "Counter(y)"
   ]
  },
  {
   "cell_type": "code",
   "execution_count": 7,
   "id": "0133a22e",
   "metadata": {
    "executionInfo": {
     "elapsed": 346,
     "status": "ok",
     "timestamp": 1667736375433,
     "user": {
      "displayName": "DDomjosa",
      "userId": "08635069532973972876"
     },
     "user_tz": -120
    },
    "id": "17798147"
   },
   "outputs": [],
   "source": [
    "#X_train_aug = np.concatenate([X_train, X_train[..., ::-1]])\n",
    "#y_train_aug = np.concatenate([y_train, y_train])"
   ]
  },
  {
   "cell_type": "code",
   "execution_count": 28,
   "id": "09332dcd",
   "metadata": {
    "scrolled": false
   },
   "outputs": [
    {
     "name": "stdout",
     "output_type": "stream",
     "text": [
      "Model: \"model_16\"\n",
      "_________________________________________________________________\n",
      " Layer (type)                Output Shape              Param #   \n",
      "=================================================================\n",
      " input_19 (InputLayer)       [(None, 50, 50, 1)]       0         \n",
      "                                                                 \n",
      " random_flip_18 (RandomFlip)  (None, 50, 50, 1)        0         \n",
      "                                                                 \n",
      " conv2d_54 (Conv2D)          (None, 48, 48, 32)        320       \n",
      "                                                                 \n",
      " max_pooling2d_42 (MaxPoolin  (None, 24, 24, 32)       0         \n",
      " g2D)                                                            \n",
      "                                                                 \n",
      " conv2d_55 (Conv2D)          (None, 22, 22, 64)        18496     \n",
      "                                                                 \n",
      " max_pooling2d_43 (MaxPoolin  (None, 11, 11, 64)       0         \n",
      " g2D)                                                            \n",
      "                                                                 \n",
      " conv2d_56 (Conv2D)          (None, 9, 9, 128)         73856     \n",
      "                                                                 \n",
      " max_pooling2d_44 (MaxPoolin  (None, 4, 4, 128)        0         \n",
      " g2D)                                                            \n",
      "                                                                 \n",
      " flatten_18 (Flatten)        (None, 2048)              0         \n",
      "                                                                 \n",
      " dense_93 (Dense)            (None, 512)               1049088   \n",
      "                                                                 \n",
      " dropout_87 (Dropout)        (None, 512)               0         \n",
      "                                                                 \n",
      " dense_94 (Dense)            (None, 512)               262656    \n",
      "                                                                 \n",
      " dropout_88 (Dropout)        (None, 512)               0         \n",
      "                                                                 \n",
      " dense_95 (Dense)            (None, 512)               262656    \n",
      "                                                                 \n",
      " dropout_89 (Dropout)        (None, 512)               0         \n",
      "                                                                 \n",
      " dense_96 (Dense)            (None, 128)               65664     \n",
      "                                                                 \n",
      " dropout_90 (Dropout)        (None, 128)               0         \n",
      "                                                                 \n",
      " dense_97 (Dense)            (None, 5)                 645       \n",
      "                                                                 \n",
      "=================================================================\n",
      "Total params: 1,733,381\n",
      "Trainable params: 1,733,381\n",
      "Non-trainable params: 0\n",
      "_________________________________________________________________\n",
      "Epoch 1/30\n",
      "250/250 [==============================] - 7s 26ms/step - loss: 1.5572 - accuracy: 0.2691 - val_loss: 1.4256 - val_accuracy: 0.3410\n",
      "Epoch 2/30\n",
      "250/250 [==============================] - 6s 25ms/step - loss: 1.1368 - accuracy: 0.4985 - val_loss: 0.8012 - val_accuracy: 0.6730\n",
      "Epoch 3/30\n",
      "250/250 [==============================] - 6s 25ms/step - loss: 0.7607 - accuracy: 0.6745 - val_loss: 0.4396 - val_accuracy: 0.8170\n",
      "Epoch 4/30\n",
      "250/250 [==============================] - 6s 25ms/step - loss: 0.5492 - accuracy: 0.7860 - val_loss: 0.3279 - val_accuracy: 0.9270\n",
      "Epoch 5/30\n",
      "250/250 [==============================] - 6s 25ms/step - loss: 0.4089 - accuracy: 0.8718 - val_loss: 0.2548 - val_accuracy: 0.9420\n",
      "Epoch 6/30\n",
      "250/250 [==============================] - 6s 25ms/step - loss: 0.3032 - accuracy: 0.9311 - val_loss: 0.1494 - val_accuracy: 0.9720\n",
      "Epoch 7/30\n",
      "250/250 [==============================] - 6s 25ms/step - loss: 0.2152 - accuracy: 0.9589 - val_loss: 0.1629 - val_accuracy: 0.9635\n",
      "Epoch 8/30\n",
      "250/250 [==============================] - 6s 25ms/step - loss: 0.1884 - accuracy: 0.9706 - val_loss: 0.2038 - val_accuracy: 0.9510\n",
      "Epoch 9/30\n",
      "250/250 [==============================] - 6s 25ms/step - loss: 0.1833 - accuracy: 0.9659 - val_loss: 0.2599 - val_accuracy: 0.9435\n",
      "Epoch 10/30\n",
      "250/250 [==============================] - 6s 25ms/step - loss: 0.1577 - accuracy: 0.9731 - val_loss: 0.1784 - val_accuracy: 0.9580\n",
      "Epoch 11/30\n",
      "250/250 [==============================] - 6s 25ms/step - loss: 0.1564 - accuracy: 0.9730 - val_loss: 0.2885 - val_accuracy: 0.8990\n",
      "Epoch 12/30\n",
      "250/250 [==============================] - 6s 25ms/step - loss: 0.1709 - accuracy: 0.9648 - val_loss: 0.1711 - val_accuracy: 0.9640\n",
      "Epoch 13/30\n",
      "250/250 [==============================] - 6s 25ms/step - loss: 0.1329 - accuracy: 0.9805 - val_loss: 0.2858 - val_accuracy: 0.9260\n",
      "Epoch 14/30\n",
      "250/250 [==============================] - 6s 25ms/step - loss: 0.1254 - accuracy: 0.9784 - val_loss: 0.3226 - val_accuracy: 0.9200\n",
      "Epoch 15/30\n",
      "250/250 [==============================] - 6s 25ms/step - loss: 0.1323 - accuracy: 0.9744 - val_loss: 0.2050 - val_accuracy: 0.9435\n",
      "Epoch 16/30\n",
      "250/250 [==============================] - 6s 25ms/step - loss: 0.1109 - accuracy: 0.9789 - val_loss: 0.6623 - val_accuracy: 0.8515\n",
      "Epoch 17/30\n",
      "250/250 [==============================] - 6s 25ms/step - loss: 0.1275 - accuracy: 0.9763 - val_loss: 0.2524 - val_accuracy: 0.9350\n",
      "Epoch 18/30\n",
      "250/250 [==============================] - 6s 25ms/step - loss: 0.1190 - accuracy: 0.9759 - val_loss: 0.2705 - val_accuracy: 0.9065\n",
      "Epoch 19/30\n",
      "250/250 [==============================] - 6s 25ms/step - loss: 0.1016 - accuracy: 0.9798 - val_loss: 0.2827 - val_accuracy: 0.9040\n",
      "Epoch 20/30\n",
      "250/250 [==============================] - 6s 25ms/step - loss: 0.1067 - accuracy: 0.9790 - val_loss: 0.2863 - val_accuracy: 0.9130\n",
      "Epoch 21/30\n",
      "250/250 [==============================] - 6s 25ms/step - loss: 0.1036 - accuracy: 0.9749 - val_loss: 0.2879 - val_accuracy: 0.9145\n",
      "Epoch 22/30\n",
      "250/250 [==============================] - 6s 25ms/step - loss: 0.0884 - accuracy: 0.9818 - val_loss: 0.4146 - val_accuracy: 0.9185\n",
      "Epoch 23/30\n",
      "250/250 [==============================] - 7s 27ms/step - loss: 0.1041 - accuracy: 0.9744 - val_loss: 0.2659 - val_accuracy: 0.9250\n",
      "Epoch 24/30\n",
      "250/250 [==============================] - 7s 28ms/step - loss: 0.0892 - accuracy: 0.9811 - val_loss: 0.3694 - val_accuracy: 0.8950\n",
      "Epoch 25/30\n",
      "250/250 [==============================] - 7s 28ms/step - loss: 0.0936 - accuracy: 0.9796 - val_loss: 0.5442 - val_accuracy: 0.9000\n",
      "Epoch 26/30\n",
      "250/250 [==============================] - 7s 27ms/step - loss: 0.0849 - accuracy: 0.9791 - val_loss: 0.3658 - val_accuracy: 0.8845\n",
      "Epoch 27/30\n",
      "250/250 [==============================] - 6s 25ms/step - loss: 0.0815 - accuracy: 0.9801 - val_loss: 0.4405 - val_accuracy: 0.9010\n",
      "Epoch 28/30\n",
      "250/250 [==============================] - 6s 25ms/step - loss: 0.0787 - accuracy: 0.9798 - val_loss: 0.4140 - val_accuracy: 0.9070\n",
      "Epoch 29/30\n",
      "250/250 [==============================] - 6s 25ms/step - loss: 0.0642 - accuracy: 0.9843 - val_loss: 0.4335 - val_accuracy: 0.9090\n",
      "Epoch 30/30\n",
      "250/250 [==============================] - 6s 25ms/step - loss: 0.0694 - accuracy: 0.9829 - val_loss: 0.6248 - val_accuracy: 0.8350\n"
     ]
    }
   ],
   "source": [
    "inp = keras.layers.Input(shape = (50, 50, 1));\n",
    "out = keras.layers.RandomFlip(\"horizontal_and_vertical\")(inp);\n",
    "#out = keras.layers.RandomRotation(0.2)(out);\n",
    "#out = keras.layers.RandomZoom(0.2, 0.2)(out);\n",
    "out = keras.layers.Conv2D(32, kernel_size=(3, 3), activation='relu', input_shape=[50, 50])(out);\n",
    "out = keras.layers.MaxPooling2D(pool_size=(2, 2))(out);\n",
    "out = keras.layers.Conv2D(64, kernel_size=(3, 3), activation='relu')(out);\n",
    "out = keras.layers.MaxPooling2D(pool_size=(2, 2))(out);\n",
    "out = keras.layers.Conv2D(128, kernel_size=(3, 3), activation='relu')(out);\n",
    "out = keras.layers.MaxPooling2D(pool_size=(2, 2))(out);\n",
    "out = keras.layers.Flatten()(out);\n",
    "out = keras.layers.Dense(512, activation = 'relu')(out);\n",
    "out = keras.layers.Dropout(0.6)(out);\n",
    "out = keras.layers.Dense(512, activation = 'relu')(out);\n",
    "out = keras.layers.Dropout(0.6)(out);\n",
    "out = keras.layers.Dense(512, activation = 'relu')(out);\n",
    "out = keras.layers.Dropout(0.6)(out);\n",
    "out = keras.layers.Dense(128, activation = 'relu')(out);\n",
    "out = keras.layers.Dropout(0.6)(out);\n",
    "out = keras.layers.Dense(5, activation = 'softmax')(out);\n",
    "\n",
    "\n",
    "checkpoint = keras.callbacks.ModelCheckpoint(filepath =  'model.h5', monitor = 'val_loss', save_best_only = True, mode = 'min');\n",
    "\n",
    "model = keras.models.Model(inputs = inp, outputs = out);\n",
    "model.compile(optimizer = keras.optimizers.Adam(learning_rate = 3e-4), loss = 'sparse_categorical_crossentropy', metrics = ['accuracy']);\n",
    "model.summary();\n",
    "\n",
    "hist = model.fit(X, y, validation_split = 0.2, epochs = 30, callbacks = [checkpoint]);\n",
    "model = tf.keras.models.load_model('model.h5');"
   ]
  },
  {
   "cell_type": "code",
   "execution_count": 29,
   "id": "fcd5142d",
   "metadata": {
    "colab": {
     "background_save": true,
     "base_uri": "https://localhost:8080/"
    },
    "id": "d3e25e03",
    "scrolled": false
   },
   "outputs": [
    {
     "name": "stdout",
     "output_type": "stream",
     "text": [
      "Model: \"model_17\"\n",
      "_________________________________________________________________\n",
      " Layer (type)                Output Shape              Param #   \n",
      "=================================================================\n",
      " input_20 (InputLayer)       [(None, 50, 50, 1)]       0         \n",
      "                                                                 \n",
      " random_flip_19 (RandomFlip)  (None, 50, 50, 1)        0         \n",
      "                                                                 \n",
      " conv2d_57 (Conv2D)          (None, 48, 48, 16)        160       \n",
      "                                                                 \n",
      " max_pooling2d_45 (MaxPoolin  (None, 24, 24, 16)       0         \n",
      " g2D)                                                            \n",
      "                                                                 \n",
      " conv2d_58 (Conv2D)          (None, 22, 22, 32)        4640      \n",
      "                                                                 \n",
      " max_pooling2d_46 (MaxPoolin  (None, 11, 11, 32)       0         \n",
      " g2D)                                                            \n",
      "                                                                 \n",
      " conv2d_59 (Conv2D)          (None, 9, 9, 64)          18496     \n",
      "                                                                 \n",
      " max_pooling2d_47 (MaxPoolin  (None, 4, 4, 64)         0         \n",
      " g2D)                                                            \n",
      "                                                                 \n",
      " conv2d_60 (Conv2D)          (None, 2, 2, 128)         73856     \n",
      "                                                                 \n",
      " max_pooling2d_48 (MaxPoolin  (None, 1, 1, 128)        0         \n",
      " g2D)                                                            \n",
      "                                                                 \n",
      " flatten_19 (Flatten)        (None, 128)               0         \n",
      "                                                                 \n",
      " dropout_91 (Dropout)        (None, 128)               0         \n",
      "                                                                 \n",
      " dense_98 (Dense)            (None, 512)               66048     \n",
      "                                                                 \n",
      " dropout_92 (Dropout)        (None, 512)               0         \n",
      "                                                                 \n",
      " dense_99 (Dense)            (None, 512)               262656    \n",
      "                                                                 \n",
      " dropout_93 (Dropout)        (None, 512)               0         \n",
      "                                                                 \n",
      " dense_100 (Dense)           (None, 512)               262656    \n",
      "                                                                 \n",
      " dropout_94 (Dropout)        (None, 512)               0         \n",
      "                                                                 \n",
      " dense_101 (Dense)           (None, 512)               262656    \n",
      "                                                                 \n",
      " dropout_95 (Dropout)        (None, 512)               0         \n",
      "                                                                 \n",
      " dense_102 (Dense)           (None, 128)               65664     \n",
      "                                                                 \n",
      " dropout_96 (Dropout)        (None, 128)               0         \n",
      "                                                                 \n",
      " dense_103 (Dense)           (None, 5)                 645       \n",
      "                                                                 \n",
      "=================================================================\n",
      "Total params: 1,017,477\n",
      "Trainable params: 1,017,477\n",
      "Non-trainable params: 0\n",
      "_________________________________________________________________\n",
      "Epoch 1/50\n",
      "250/250 [==============================] - 8s 26ms/step - loss: 1.5519 - accuracy: 0.2653 - val_loss: 1.4305 - val_accuracy: 0.4330\n",
      "Epoch 2/50\n",
      "250/250 [==============================] - 6s 26ms/step - loss: 1.2433 - accuracy: 0.4790 - val_loss: 1.0298 - val_accuracy: 0.6220\n",
      "Epoch 3/50\n",
      "250/250 [==============================] - 6s 25ms/step - loss: 0.9530 - accuracy: 0.6019 - val_loss: 0.6560 - val_accuracy: 0.7235\n",
      "Epoch 4/50\n",
      "250/250 [==============================] - 6s 26ms/step - loss: 0.6994 - accuracy: 0.7055 - val_loss: 0.4407 - val_accuracy: 0.8140\n",
      "Epoch 5/50\n",
      "250/250 [==============================] - 6s 26ms/step - loss: 0.5499 - accuracy: 0.7686 - val_loss: 0.4260 - val_accuracy: 0.8025\n",
      "Epoch 6/50\n",
      "250/250 [==============================] - 7s 26ms/step - loss: 0.4987 - accuracy: 0.7879 - val_loss: 0.3195 - val_accuracy: 0.8475\n",
      "Epoch 7/50\n",
      "250/250 [==============================] - 6s 26ms/step - loss: 0.4336 - accuracy: 0.8045 - val_loss: 0.3321 - val_accuracy: 0.8390\n",
      "Epoch 8/50\n",
      "250/250 [==============================] - 6s 25ms/step - loss: 0.4123 - accuracy: 0.8195 - val_loss: 0.3314 - val_accuracy: 0.8420\n",
      "Epoch 9/50\n",
      "250/250 [==============================] - 6s 25ms/step - loss: 0.4169 - accuracy: 0.8153 - val_loss: 0.3415 - val_accuracy: 0.8375\n",
      "Epoch 10/50\n",
      "250/250 [==============================] - 6s 26ms/step - loss: 0.3786 - accuracy: 0.8321 - val_loss: 0.3038 - val_accuracy: 0.8515\n",
      "Epoch 11/50\n",
      "250/250 [==============================] - 6s 25ms/step - loss: 0.4008 - accuracy: 0.8254 - val_loss: 0.5328 - val_accuracy: 0.7595\n",
      "Epoch 12/50\n",
      "250/250 [==============================] - 6s 26ms/step - loss: 0.3797 - accuracy: 0.8340 - val_loss: 0.2842 - val_accuracy: 0.8530\n",
      "Epoch 13/50\n",
      "250/250 [==============================] - 6s 25ms/step - loss: 0.3633 - accuracy: 0.8366 - val_loss: 0.3034 - val_accuracy: 0.8965\n",
      "Epoch 14/50\n",
      "250/250 [==============================] - 6s 25ms/step - loss: 0.3653 - accuracy: 0.8368 - val_loss: 0.3226 - val_accuracy: 0.8395\n",
      "Epoch 15/50\n",
      "250/250 [==============================] - 6s 26ms/step - loss: 0.3608 - accuracy: 0.8453 - val_loss: 0.2781 - val_accuracy: 0.9620\n",
      "Epoch 16/50\n",
      "250/250 [==============================] - 6s 26ms/step - loss: 0.3294 - accuracy: 0.8899 - val_loss: 0.3653 - val_accuracy: 0.8810\n",
      "Epoch 17/50\n",
      "250/250 [==============================] - 6s 26ms/step - loss: 0.2390 - accuracy: 0.9500 - val_loss: 0.1563 - val_accuracy: 0.9755\n",
      "Epoch 18/50\n",
      "250/250 [==============================] - 6s 25ms/step - loss: 0.1956 - accuracy: 0.9633 - val_loss: 0.1917 - val_accuracy: 0.9605\n",
      "Epoch 19/50\n",
      "250/250 [==============================] - 6s 25ms/step - loss: 0.2152 - accuracy: 0.9546 - val_loss: 0.1875 - val_accuracy: 0.9545\n",
      "Epoch 20/50\n",
      "250/250 [==============================] - 6s 25ms/step - loss: 0.1839 - accuracy: 0.9669 - val_loss: 0.2339 - val_accuracy: 0.9495\n",
      "Epoch 21/50\n",
      "250/250 [==============================] - 6s 26ms/step - loss: 0.1840 - accuracy: 0.9636 - val_loss: 0.1058 - val_accuracy: 0.9880\n",
      "Epoch 22/50\n",
      "250/250 [==============================] - 6s 25ms/step - loss: 0.1758 - accuracy: 0.9661 - val_loss: 0.1241 - val_accuracy: 0.9845\n",
      "Epoch 23/50\n",
      "250/250 [==============================] - 6s 25ms/step - loss: 0.1559 - accuracy: 0.9704 - val_loss: 0.1589 - val_accuracy: 0.9695\n",
      "Epoch 24/50\n",
      "250/250 [==============================] - 6s 25ms/step - loss: 0.1642 - accuracy: 0.9681 - val_loss: 0.1125 - val_accuracy: 0.9865\n",
      "Epoch 25/50\n",
      "250/250 [==============================] - 6s 25ms/step - loss: 0.1578 - accuracy: 0.9708 - val_loss: 0.2380 - val_accuracy: 0.9445\n",
      "Epoch 26/50\n",
      "250/250 [==============================] - 6s 25ms/step - loss: 0.1602 - accuracy: 0.9703 - val_loss: 0.1313 - val_accuracy: 0.9840\n",
      "Epoch 27/50\n",
      "250/250 [==============================] - 6s 25ms/step - loss: 0.1447 - accuracy: 0.9745 - val_loss: 0.1451 - val_accuracy: 0.9760\n",
      "Epoch 28/50\n",
      "250/250 [==============================] - 6s 25ms/step - loss: 0.1542 - accuracy: 0.9703 - val_loss: 0.1146 - val_accuracy: 0.9855\n",
      "Epoch 29/50\n",
      "250/250 [==============================] - 6s 25ms/step - loss: 0.1433 - accuracy: 0.9738 - val_loss: 0.1227 - val_accuracy: 0.9860\n",
      "Epoch 30/50\n",
      "250/250 [==============================] - 6s 25ms/step - loss: 0.1499 - accuracy: 0.9730 - val_loss: 0.1418 - val_accuracy: 0.9800\n",
      "Epoch 31/50\n",
      "250/250 [==============================] - 6s 25ms/step - loss: 0.1455 - accuracy: 0.9713 - val_loss: 0.1269 - val_accuracy: 0.9855\n",
      "Epoch 32/50\n"
     ]
    },
    {
     "name": "stdout",
     "output_type": "stream",
     "text": [
      "250/250 [==============================] - 6s 26ms/step - loss: 0.1504 - accuracy: 0.9695 - val_loss: 0.5218 - val_accuracy: 0.8670\n",
      "Epoch 33/50\n",
      "250/250 [==============================] - 6s 26ms/step - loss: 0.1402 - accuracy: 0.9725 - val_loss: 0.1899 - val_accuracy: 0.9615\n",
      "Epoch 34/50\n",
      "250/250 [==============================] - 6s 26ms/step - loss: 0.1409 - accuracy: 0.9704 - val_loss: 0.1334 - val_accuracy: 0.9775\n",
      "Epoch 35/50\n",
      "250/250 [==============================] - 6s 25ms/step - loss: 0.1359 - accuracy: 0.9758 - val_loss: 0.2320 - val_accuracy: 0.9470\n",
      "Epoch 36/50\n",
      "250/250 [==============================] - 6s 26ms/step - loss: 0.1266 - accuracy: 0.9765 - val_loss: 0.1266 - val_accuracy: 0.9845\n",
      "Epoch 37/50\n",
      "250/250 [==============================] - 6s 26ms/step - loss: 0.1359 - accuracy: 0.9718 - val_loss: 0.1647 - val_accuracy: 0.9715\n",
      "Epoch 38/50\n",
      "250/250 [==============================] - 6s 26ms/step - loss: 0.1363 - accuracy: 0.9746 - val_loss: 0.1278 - val_accuracy: 0.9840\n",
      "Epoch 39/50\n",
      "250/250 [==============================] - 6s 26ms/step - loss: 0.1325 - accuracy: 0.9739 - val_loss: 0.1444 - val_accuracy: 0.9800\n",
      "Epoch 40/50\n",
      "250/250 [==============================] - 6s 26ms/step - loss: 0.1143 - accuracy: 0.9799 - val_loss: 0.1197 - val_accuracy: 0.9875\n",
      "Epoch 41/50\n",
      "250/250 [==============================] - 6s 26ms/step - loss: 0.1181 - accuracy: 0.9790 - val_loss: 0.1323 - val_accuracy: 0.9840\n",
      "Epoch 42/50\n",
      "250/250 [==============================] - 6s 26ms/step - loss: 0.1265 - accuracy: 0.9749 - val_loss: 0.1547 - val_accuracy: 0.9760\n",
      "Epoch 43/50\n",
      "250/250 [==============================] - 6s 26ms/step - loss: 0.1150 - accuracy: 0.9781 - val_loss: 0.1865 - val_accuracy: 0.9645\n",
      "Epoch 44/50\n",
      "250/250 [==============================] - 6s 25ms/step - loss: 0.1160 - accuracy: 0.9774 - val_loss: 0.1440 - val_accuracy: 0.9830\n",
      "Epoch 45/50\n",
      "250/250 [==============================] - 6s 25ms/step - loss: 0.1145 - accuracy: 0.9788 - val_loss: 0.1390 - val_accuracy: 0.9820\n",
      "Epoch 46/50\n",
      "250/250 [==============================] - 6s 25ms/step - loss: 0.1077 - accuracy: 0.9805 - val_loss: 0.1286 - val_accuracy: 0.9850\n",
      "Epoch 47/50\n",
      "250/250 [==============================] - 6s 25ms/step - loss: 0.0953 - accuracy: 0.9830 - val_loss: 0.2397 - val_accuracy: 0.9545\n",
      "Epoch 48/50\n",
      "250/250 [==============================] - 6s 25ms/step - loss: 0.1183 - accuracy: 0.9761 - val_loss: 0.1488 - val_accuracy: 0.9780\n",
      "Epoch 49/50\n",
      "250/250 [==============================] - 6s 25ms/step - loss: 0.1068 - accuracy: 0.9794 - val_loss: 0.1439 - val_accuracy: 0.9855\n",
      "Epoch 50/50\n",
      "250/250 [==============================] - 6s 25ms/step - loss: 0.1057 - accuracy: 0.9776 - val_loss: 0.2322 - val_accuracy: 0.9560\n"
     ]
    }
   ],
   "source": [
    "inp = keras.layers.Input(shape = (50, 50, 1));\n",
    "out = keras.layers.RandomFlip(\"horizontal_and_vertical\")(inp);\n",
    "#out = keras.layers.RandomRotation(0.2)(out);\n",
    "#out = keras.layers.RandomZoom(0.2, 0.2)(out);\n",
    "out = keras.layers.Conv2D(16, kernel_size=(3, 3), activation='relu', input_shape=[50, 50])(out);\n",
    "out = keras.layers.MaxPooling2D(pool_size=(2, 2))(out);\n",
    "out = keras.layers.Conv2D(32, kernel_size=(3, 3), activation='relu')(out);\n",
    "out = keras.layers.MaxPooling2D(pool_size=(2, 2))(out);\n",
    "out = keras.layers.Conv2D(64, kernel_size=(3, 3), activation='relu')(out);\n",
    "out = keras.layers.MaxPooling2D(pool_size=(2, 2))(out);\n",
    "out = keras.layers.Conv2D(128, kernel_size=(3, 3), activation='relu')(out);\n",
    "out = keras.layers.MaxPooling2D(pool_size=(2, 2))(out);\n",
    "out = keras.layers.Flatten()(out);\n",
    "out = keras.layers.Dropout(0.4)(out);\n",
    "out = keras.layers.Dense(512, activation = 'relu')(out);\n",
    "out = keras.layers.Dropout(0.6)(out);\n",
    "out = keras.layers.Dense(512, activation = 'relu')(out);\n",
    "out = keras.layers.Dropout(0.6)(out);\n",
    "out = keras.layers.Dense(512, activation = 'relu')(out);\n",
    "out = keras.layers.Dropout(0.6)(out);\n",
    "out = keras.layers.Dense(512, activation = 'relu')(out);\n",
    "out = keras.layers.Dropout(0.6)(out);\n",
    "out = keras.layers.Dense(128, activation = 'relu')(out);\n",
    "out = keras.layers.Dropout(0.6)(out);\n",
    "out = keras.layers.Dense(5, activation = 'softmax')(out);\n",
    "\n",
    "\n",
    "checkpoint = keras.callbacks.ModelCheckpoint(filepath =  'model.h5', monitor = 'val_loss', save_best_only = True, mode = 'min');\n",
    "\n",
    "model = keras.models.Model(inputs = inp, outputs = out);\n",
    "model.compile(optimizer = keras.optimizers.Adam(learning_rate = 3e-4), loss = 'sparse_categorical_crossentropy', metrics = ['accuracy']);\n",
    "model.summary();\n",
    "\n",
    "hist = model.fit(X, y, validation_split = 0.2, epochs = 50, callbacks = [checkpoint]);\n",
    "model = tf.keras.models.load_model('model.h5');"
   ]
  },
  {
   "cell_type": "code",
   "execution_count": 17,
   "id": "e8b0683f",
   "metadata": {
    "id": "3d888d83"
   },
   "outputs": [
    {
     "data": {
      "image/png": "[encoded data removed]",
      "text/plain": [
       "<Figure size 640x480 with 1 Axes>"
      ]
     },
     "metadata": {},
     "output_type": "display_data"
    }
   ],
   "source": [
    "pd.DataFrame(hist.history).plot()\n",
    "model.save('model.h5')"
   ]
  },
  {
   "cell_type": "code",
   "execution_count": null,
   "id": "1c5def3f",
   "metadata": {},
   "outputs": [],
   "source": []
  }
 ],
 "metadata": {
  "accelerator": "GPU",
  "colab": {
   "collapsed_sections": [],
   "name": "",
   "version": ""
  },
  "gpuClass": "standard",
  "kernelspec": {
   "display_name": "Python [conda env:py3.9]",
   "language": "python",
   "name": "conda-env-py3.9-py"
  },
  "language_info": {
   "codemirror_mode": {
    "name": "ipython",
    "version": 3
   },
   "file_extension": ".py",
   "mimetype": "text/x-python",
   "name": "python",
   "nbconvert_exporter": "python",
   "pygments_lexer": "ipython3",
   "version": "3.9.13"
  }
 },
 "nbformat": 4,
 "nbformat_minor": 5
}
