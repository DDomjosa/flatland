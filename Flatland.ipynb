{
 "cells": [
  {
   "cell_type": "code",
   "execution_count": 1,
   "id": "a98047ad",
   "metadata": {
    "executionInfo": {
     "elapsed": 33,
     "status": "ok",
     "timestamp": 1667736365400,
     "user": {
      "displayName": "DDomjosa",
      "userId": "08635069532973972876"
     },
     "user_tz": -120
    },
    "id": "10f6d9b8"
   },
   "outputs": [
    {
     "data": {
      "text/plain": [
       "[PhysicalDevice(name='/physical_device:CPU:0', device_type='CPU'),\n",
       " PhysicalDevice(name='/physical_device:GPU:0', device_type='GPU'),\n",
       " PhysicalDevice(name='/physical_device:GPU:1', device_type='GPU')]"
      ]
     },
     "execution_count": 1,
     "metadata": {},
     "output_type": "execute_result"
    }
   ],
   "source": [
    "import tensorflow as tf\n",
    "from tensorflow import keras\n",
    "from collections import Counter\n",
    "import matplotlib.pyplot as plt\n",
    "import pandas as pd\n",
    "import numpy as np\n",
    "\n",
    "tf.config.list_physical_devices()"
   ]
  },
  {
   "cell_type": "code",
   "execution_count": 2,
   "id": "75ad9324",
   "metadata": {
    "executionInfo": {
     "elapsed": 374,
     "status": "ok",
     "timestamp": 1667736374562,
     "user": {
      "displayName": "DDomjosa",
      "userId": "08635069532973972876"
     },
     "user_tz": -120
    },
    "id": "3e783b3c"
   },
   "outputs": [],
   "source": [
    "data = np.load('flatland_train.npz')\n",
    "X = data['X']\n",
    "y = data['y']\n",
    "y[y != 0] -= 2    # Correct labels so that triangle is mapped to class 1\n",
    "X = X / 255.      # Scale down to range [0, 1]"
   ]
  },
  {
   "cell_type": "code",
   "execution_count": 3,
   "id": "da138b13",
   "metadata": {
    "colab": {
     "base_uri": "https://localhost:8080/"
    },
    "executionInfo": {
     "elapsed": 14,
     "status": "ok",
     "timestamp": 1667736374562,
     "user": {
      "displayName": "DDomjosa",
      "userId": "08635069532973972876"
     },
     "user_tz": -120
    },
    "id": "5b3a4235",
    "outputId": "50a4aa12-cd7b-4843-c3f5-e7b0af2244ca"
   },
   "outputs": [
    {
     "data": {
      "text/plain": [
       "<matplotlib.image.AxesImage at 0x29b03280fd0>"
      ]
     },
     "execution_count": 3,
     "metadata": {},
     "output_type": "execute_result"
    },
    {
     "data": {
      "image/png": "[encoded data removed]",
      "text/plain": [
       "<Figure size 640x480 with 1 Axes>"
      ]
     },
     "metadata": {},
     "output_type": "display_data"
    }
   ],
   "source": [
    "plt.imshow(X[5], cmap = 'gray')"
   ]
  },
  {
   "cell_type": "code",
   "execution_count": 4,
   "id": "22eacc52",
   "metadata": {},
   "outputs": [
    {
     "data": {
      "text/plain": [
       "(10000, 50, 50)"
      ]
     },
     "execution_count": 4,
     "metadata": {},
     "output_type": "execute_result"
    }
   ],
   "source": [
    "X.shape"
   ]
  },
  {
   "cell_type": "code",
   "execution_count": 5,
   "id": "0324488d",
   "metadata": {
    "colab": {
     "base_uri": "https://localhost:8080/"
    },
    "executionInfo": {
     "elapsed": 14,
     "status": "ok",
     "timestamp": 1667736374563,
     "user": {
      "displayName": "DDomjosa",
      "userId": "08635069532973972876"
     },
     "user_tz": -120
    },
    "id": "9a8117e0",
    "outputId": "60207a8f-c6ad-4630-dc88-d574189ec8d0",
    "scrolled": true
   },
   "outputs": [
    {
     "data": {
      "text/plain": [
       "Counter({2.0: 1868, 4.0: 1761, 3.0: 2137, 1.0: 2853, 0.0: 1381})"
      ]
     },
     "execution_count": 5,
     "metadata": {},
     "output_type": "execute_result"
    }
   ],
   "source": [
    "Counter(y)"
   ]
  },
  {
   "cell_type": "code",
   "execution_count": 6,
   "id": "0133a22e",
   "metadata": {
    "executionInfo": {
     "elapsed": 346,
     "status": "ok",
     "timestamp": 1667736375433,
     "user": {
      "displayName": "DDomjosa",
      "userId": "08635069532973972876"
     },
     "user_tz": -120
    },
    "id": "17798147"
   },
   "outputs": [],
   "source": [
    "#X_train_aug = np.concatenate([X_train, X_train[..., ::-1]])\n",
    "#y_train_aug = np.concatenate([y_train, y_train])"
   ]
  },
  {
   "cell_type": "code",
   "execution_count": 7,
   "id": "fcd5142d",
   "metadata": {
    "colab": {
     "background_save": true,
     "base_uri": "https://localhost:8080/"
    },
    "id": "d3e25e03",
    "scrolled": false
   },
   "outputs": [
    {
     "name": "stdout",
     "output_type": "stream",
     "text": [
      "Model: \"model\"\n",
      "_________________________________________________________________\n",
      " Layer (type)                Output Shape              Param #   \n",
      "=================================================================\n",
      " input_1 (InputLayer)        [(None, 50, 50)]          0         \n",
      "                                                                 \n",
      " flatten (Flatten)           (None, 2500)              0         \n",
      "                                                                 \n",
      " dense (Dense)               (None, 3000)              7503000   \n",
      "                                                                 \n",
      " dense_1 (Dense)             (None, 500)               1500500   \n",
      "                                                                 \n",
      " dense_2 (Dense)             (None, 100)               50100     \n",
      "                                                                 \n",
      " dense_3 (Dense)             (None, 5)                 505       \n",
      "                                                                 \n",
      "=================================================================\n",
      "Total params: 9,054,105\n",
      "Trainable params: 9,054,105\n",
      "Non-trainable params: 0\n",
      "_________________________________________________________________\n",
      "Epoch 1/30\n",
      "250/250 [==============================] - 3s 8ms/step - loss: 1.2520 - accuracy: 0.4658 - val_loss: 1.1212 - val_accuracy: 0.5135\n",
      "Epoch 2/30\n",
      "250/250 [==============================] - 2s 7ms/step - loss: 0.9556 - accuracy: 0.5995 - val_loss: 0.9701 - val_accuracy: 0.5875\n",
      "Epoch 3/30\n",
      "250/250 [==============================] - 2s 6ms/step - loss: 0.7354 - accuracy: 0.6936 - val_loss: 0.6490 - val_accuracy: 0.7235\n",
      "Epoch 4/30\n",
      "250/250 [==============================] - 2s 7ms/step - loss: 0.6312 - accuracy: 0.7418 - val_loss: 0.8112 - val_accuracy: 0.6340\n",
      "Epoch 5/30\n",
      "250/250 [==============================] - 2s 6ms/step - loss: 0.5754 - accuracy: 0.7591 - val_loss: 0.7008 - val_accuracy: 0.7295\n",
      "Epoch 6/30\n",
      "250/250 [==============================] - 2s 7ms/step - loss: 0.5207 - accuracy: 0.7810 - val_loss: 0.5910 - val_accuracy: 0.7610\n",
      "Epoch 7/30\n",
      "250/250 [==============================] - 2s 6ms/step - loss: 0.4859 - accuracy: 0.7943 - val_loss: 0.5730 - val_accuracy: 0.7720\n",
      "Epoch 8/30\n",
      "250/250 [==============================] - 2s 6ms/step - loss: 0.4501 - accuracy: 0.8081 - val_loss: 0.5347 - val_accuracy: 0.7885\n",
      "Epoch 9/30\n",
      "250/250 [==============================] - 2s 7ms/step - loss: 0.4041 - accuracy: 0.8309 - val_loss: 0.5358 - val_accuracy: 0.7940\n",
      "Epoch 10/30\n",
      "250/250 [==============================] - 2s 7ms/step - loss: 0.3770 - accuracy: 0.8475 - val_loss: 0.5069 - val_accuracy: 0.8165\n",
      "Epoch 11/30\n",
      "250/250 [==============================] - 2s 7ms/step - loss: 0.3508 - accuracy: 0.8534 - val_loss: 0.5600 - val_accuracy: 0.7710\n",
      "Epoch 12/30\n",
      "250/250 [==============================] - 2s 7ms/step - loss: 0.3245 - accuracy: 0.8683 - val_loss: 0.4746 - val_accuracy: 0.8235\n",
      "Epoch 13/30\n",
      "250/250 [==============================] - 2s 7ms/step - loss: 0.2931 - accuracy: 0.8809 - val_loss: 0.5030 - val_accuracy: 0.8250\n",
      "Epoch 14/30\n",
      "250/250 [==============================] - 2s 7ms/step - loss: 0.2713 - accuracy: 0.8910 - val_loss: 0.4720 - val_accuracy: 0.8420\n",
      "Epoch 15/30\n",
      "250/250 [==============================] - 2s 7ms/step - loss: 0.2399 - accuracy: 0.9064 - val_loss: 0.4268 - val_accuracy: 0.8580\n",
      "Epoch 16/30\n",
      "250/250 [==============================] - 2s 7ms/step - loss: 0.2083 - accuracy: 0.9170 - val_loss: 0.4777 - val_accuracy: 0.8485\n",
      "Epoch 17/30\n",
      "250/250 [==============================] - 2s 7ms/step - loss: 0.1930 - accuracy: 0.9278 - val_loss: 0.4221 - val_accuracy: 0.8710\n",
      "Epoch 18/30\n",
      "250/250 [==============================] - 2s 7ms/step - loss: 0.1827 - accuracy: 0.9339 - val_loss: 0.4347 - val_accuracy: 0.8735\n",
      "Epoch 19/30\n",
      "250/250 [==============================] - 2s 7ms/step - loss: 0.1515 - accuracy: 0.9441 - val_loss: 0.4455 - val_accuracy: 0.8765\n",
      "Epoch 20/30\n",
      "250/250 [==============================] - 2s 7ms/step - loss: 0.1480 - accuracy: 0.9475 - val_loss: 0.4342 - val_accuracy: 0.8795\n",
      "Epoch 21/30\n",
      "250/250 [==============================] - 2s 7ms/step - loss: 0.1276 - accuracy: 0.9550 - val_loss: 0.4239 - val_accuracy: 0.8830\n",
      "Epoch 22/30\n",
      "250/250 [==============================] - 2s 7ms/step - loss: 0.1153 - accuracy: 0.9580 - val_loss: 0.4195 - val_accuracy: 0.8920\n",
      "Epoch 23/30\n",
      "250/250 [==============================] - 2s 7ms/step - loss: 0.1232 - accuracy: 0.9549 - val_loss: 0.4031 - val_accuracy: 0.9035\n",
      "Epoch 24/30\n",
      "250/250 [==============================] - 2s 7ms/step - loss: 0.1265 - accuracy: 0.9560 - val_loss: 0.4883 - val_accuracy: 0.8675\n",
      "Epoch 25/30\n",
      "250/250 [==============================] - 2s 7ms/step - loss: 0.1261 - accuracy: 0.9534 - val_loss: 0.4845 - val_accuracy: 0.8740\n",
      "Epoch 26/30\n",
      "250/250 [==============================] - 2s 7ms/step - loss: 0.0936 - accuracy: 0.9661 - val_loss: 0.4083 - val_accuracy: 0.9075\n",
      "Epoch 27/30\n",
      "250/250 [==============================] - 2s 7ms/step - loss: 0.0869 - accuracy: 0.9711 - val_loss: 0.4633 - val_accuracy: 0.8805\n",
      "Epoch 28/30\n",
      "250/250 [==============================] - 2s 7ms/step - loss: 0.0883 - accuracy: 0.9686 - val_loss: 0.4007 - val_accuracy: 0.9105\n",
      "Epoch 29/30\n",
      "250/250 [==============================] - 2s 7ms/step - loss: 0.0950 - accuracy: 0.9640 - val_loss: 0.4615 - val_accuracy: 0.8795\n",
      "Epoch 30/30\n",
      "250/250 [==============================] - 2s 7ms/step - loss: 0.0693 - accuracy: 0.9770 - val_loss: 0.3996 - val_accuracy: 0.9105\n"
     ]
    }
   ],
   "source": [
    "inp = keras.layers.Input(shape = (50, 50));\n",
    "out = keras.layers.Flatten()(inp);\n",
    "out = keras.layers.Dense(3000, activation = 'relu')(out);\n",
    "out = keras.layers.Dense(500, activation = 'relu')(out);\n",
    "out = keras.layers.Dense(100, activation = 'relu')(out);\n",
    "#out = keras.layers.Dropout(0.4)(out);\n",
    "out = keras.layers.Dense(5, activation = 'softmax')(out);\n",
    "\n",
    "model = keras.models.Model(inputs = inp, outputs = out);\n",
    "model.compile(optimizer = keras.optimizers.Adam(learning_rate = 3e-4), loss = 'sparse_categorical_crossentropy', metrics = ['accuracy']);\n",
    "model.summary();\n",
    "\n",
    "hist = model.fit(X, y, validation_split = 0.2, epochs = 30)"
   ]
  },
  {
   "cell_type": "code",
   "execution_count": 9,
   "id": "e8b0683f",
   "metadata": {
    "id": "3d888d83"
   },
   "outputs": [
    {
     "data": {
      "image/png": "[encoded data removed]",
      "text/plain": [
       "<Figure size 640x480 with 1 Axes>"
      ]
     },
     "metadata": {},
     "output_type": "display_data"
    }
   ],
   "source": [
    "pd.DataFrame(hist.history).plot()\n",
    "model.save('model.h5')"
   ]
  },
  {
   "cell_type": "code",
   "execution_count": null,
   "id": "9200eb18",
   "metadata": {
    "id": "ae85f9eb"
   },
   "outputs": [],
   "source": []
  }
 ],
 "metadata": {
  "accelerator": "GPU",
  "colab": {
   "collapsed_sections": [],
   "name": "",
   "version": ""
  },
  "gpuClass": "standard",
  "kernelspec": {
   "display_name": "Python [conda env:py3.9]",
   "language": "python",
   "name": "conda-env-py3.9-py"
  },
  "language_info": {
   "codemirror_mode": {
    "name": "ipython",
    "version": 3
   },
   "file_extension": ".py",
   "mimetype": "text/x-python",
   "name": "python",
   "nbconvert_exporter": "python",
   "pygments_lexer": "ipython3",
   "version": "3.9.13"
  }
 },
 "nbformat": 4,
 "nbformat_minor": 5
}
