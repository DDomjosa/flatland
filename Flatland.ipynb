{
 "cells": [
  {
   "cell_type": "code",
   "execution_count": 1,
   "id": "a98047ad",
   "metadata": {
    "executionInfo": {
     "elapsed": 33,
     "status": "ok",
     "timestamp": 1667736365400,
     "user": {
      "displayName": "DDomjosa",
      "userId": "08635069532973972876"
     },
     "user_tz": -120
    },
    "id": "10f6d9b8"
   },
   "outputs": [
    {
     "data": {
      "text/plain": [
       "[PhysicalDevice(name='/physical_device:CPU:0', device_type='CPU'),\n",
       " PhysicalDevice(name='/physical_device:GPU:0', device_type='GPU'),\n",
       " PhysicalDevice(name='/physical_device:GPU:1', device_type='GPU')]"
      ]
     },
     "execution_count": 1,
     "metadata": {},
     "output_type": "execute_result"
    }
   ],
   "source": [
    "import tensorflow as tf\n",
    "from tensorflow import keras\n",
    "from collections import Counter\n",
    "import matplotlib.pyplot as plt\n",
    "import pandas as pd\n",
    "import numpy as np\n",
    "\n",
    "tf.config.list_physical_devices()"
   ]
  },
  {
   "cell_type": "code",
   "execution_count": 2,
   "id": "75ad9324",
   "metadata": {
    "executionInfo": {
     "elapsed": 374,
     "status": "ok",
     "timestamp": 1667736374562,
     "user": {
      "displayName": "DDomjosa",
      "userId": "08635069532973972876"
     },
     "user_tz": -120
    },
    "id": "3e783b3c"
   },
   "outputs": [],
   "source": [
    "data = np.load('flatland_train.npz')\n",
    "X = data['X']\n",
    "y = data['y']\n",
    "y[y != 0] -= 2    # Correct labels so that triangle is mapped to class 1\n",
    "X = X / 255.      # Scale down to range [0, 1]"
   ]
  },
  {
   "cell_type": "code",
   "execution_count": 3,
   "id": "da138b13",
   "metadata": {
    "colab": {
     "base_uri": "https://localhost:8080/"
    },
    "executionInfo": {
     "elapsed": 14,
     "status": "ok",
     "timestamp": 1667736374562,
     "user": {
      "displayName": "DDomjosa",
      "userId": "08635069532973972876"
     },
     "user_tz": -120
    },
    "id": "5b3a4235",
    "outputId": "50a4aa12-cd7b-4843-c3f5-e7b0af2244ca"
   },
   "outputs": [
    {
     "data": {
      "text/plain": [
       "<matplotlib.image.AxesImage at 0x1e4a399e940>"
      ]
     },
     "execution_count": 3,
     "metadata": {},
     "output_type": "execute_result"
    },
    {
     "data": {
      "image/png": "[encoded data removed]",
      "text/plain": [
       "<Figure size 640x480 with 1 Axes>"
      ]
     },
     "metadata": {},
     "output_type": "display_data"
    }
   ],
   "source": [
    "plt.imshow(X[5], cmap = 'gray')"
   ]
  },
  {
   "cell_type": "code",
   "execution_count": 4,
   "id": "22eacc52",
   "metadata": {},
   "outputs": [
    {
     "data": {
      "text/plain": [
       "(10000, 50, 50)"
      ]
     },
     "execution_count": 4,
     "metadata": {},
     "output_type": "execute_result"
    }
   ],
   "source": [
    "X.shape"
   ]
  },
  {
   "cell_type": "code",
   "execution_count": 5,
   "id": "0324488d",
   "metadata": {
    "colab": {
     "base_uri": "https://localhost:8080/"
    },
    "executionInfo": {
     "elapsed": 14,
     "status": "ok",
     "timestamp": 1667736374563,
     "user": {
      "displayName": "DDomjosa",
      "userId": "08635069532973972876"
     },
     "user_tz": -120
    },
    "id": "9a8117e0",
    "outputId": "60207a8f-c6ad-4630-dc88-d574189ec8d0",
    "scrolled": true
   },
   "outputs": [
    {
     "data": {
      "text/plain": [
       "Counter({2.0: 1868, 4.0: 1761, 3.0: 2137, 1.0: 2853, 0.0: 1381})"
      ]
     },
     "execution_count": 5,
     "metadata": {},
     "output_type": "execute_result"
    }
   ],
   "source": [
    "Counter(y)"
   ]
  },
  {
   "cell_type": "code",
   "execution_count": 6,
   "id": "0133a22e",
   "metadata": {
    "executionInfo": {
     "elapsed": 346,
     "status": "ok",
     "timestamp": 1667736375433,
     "user": {
      "displayName": "DDomjosa",
      "userId": "08635069532973972876"
     },
     "user_tz": -120
    },
    "id": "17798147"
   },
   "outputs": [],
   "source": [
    "#X_train_aug = np.concatenate([X_train, X_train[..., ::-1]])\n",
    "#y_train_aug = np.concatenate([y_train, y_train])"
   ]
  },
  {
   "cell_type": "code",
   "execution_count": 21,
   "id": "fcd5142d",
   "metadata": {
    "colab": {
     "background_save": true,
     "base_uri": "https://localhost:8080/"
    },
    "id": "d3e25e03",
    "scrolled": false
   },
   "outputs": [
    {
     "name": "stdout",
     "output_type": "stream",
     "text": [
      "Model: \"model_7\"\n",
      "_________________________________________________________________\n",
      " Layer (type)                Output Shape              Param #   \n",
      "=================================================================\n",
      " input_8 (InputLayer)        [(None, 50, 50)]          0         \n",
      "                                                                 \n",
      " flatten_7 (Flatten)         (None, 2500)              0         \n",
      "                                                                 \n",
      " dense_34 (Dense)            (None, 2000)              5002000   \n",
      "                                                                 \n",
      " dropout (Dropout)           (None, 2000)              0         \n",
      "                                                                 \n",
      " dense_35 (Dense)            (None, 2000)              4002000   \n",
      "                                                                 \n",
      " dropout_1 (Dropout)         (None, 2000)              0         \n",
      "                                                                 \n",
      " dense_36 (Dense)            (None, 1000)              2001000   \n",
      "                                                                 \n",
      " dropout_2 (Dropout)         (None, 1000)              0         \n",
      "                                                                 \n",
      " dense_37 (Dense)            (None, 1000)              1001000   \n",
      "                                                                 \n",
      " dropout_3 (Dropout)         (None, 1000)              0         \n",
      "                                                                 \n",
      " dense_38 (Dense)            (None, 5)                 5005      \n",
      "                                                                 \n",
      "=================================================================\n",
      "Total params: 12,011,005\n",
      "Trainable params: 12,011,005\n",
      "Non-trainable params: 0\n",
      "_________________________________________________________________\n",
      "Epoch 1/50\n",
      "250/250 [==============================] - 3s 12ms/step - loss: 1.3981 - accuracy: 0.4080 - val_loss: 1.2544 - val_accuracy: 0.4735\n",
      "Epoch 2/50\n",
      "250/250 [==============================] - 3s 11ms/step - loss: 1.2135 - accuracy: 0.4898 - val_loss: 1.1248 - val_accuracy: 0.5220\n",
      "Epoch 3/50\n",
      "250/250 [==============================] - 3s 11ms/step - loss: 1.0938 - accuracy: 0.5381 - val_loss: 0.9642 - val_accuracy: 0.5770\n",
      "Epoch 4/50\n",
      "250/250 [==============================] - 3s 11ms/step - loss: 0.9739 - accuracy: 0.5813 - val_loss: 0.8633 - val_accuracy: 0.6210\n",
      "Epoch 5/50\n",
      "250/250 [==============================] - 3s 10ms/step - loss: 0.8735 - accuracy: 0.6330 - val_loss: 0.7911 - val_accuracy: 0.6605\n",
      "Epoch 6/50\n",
      "250/250 [==============================] - 3s 11ms/step - loss: 0.8043 - accuracy: 0.6559 - val_loss: 0.7444 - val_accuracy: 0.6780\n",
      "Epoch 7/50\n",
      "250/250 [==============================] - 3s 11ms/step - loss: 0.7537 - accuracy: 0.6809 - val_loss: 0.6940 - val_accuracy: 0.7145\n",
      "Epoch 8/50\n",
      "250/250 [==============================] - 3s 10ms/step - loss: 0.7105 - accuracy: 0.6989 - val_loss: 0.6629 - val_accuracy: 0.7045\n",
      "Epoch 9/50\n",
      "250/250 [==============================] - 3s 11ms/step - loss: 0.6816 - accuracy: 0.7079 - val_loss: 0.6213 - val_accuracy: 0.7500\n",
      "Epoch 10/50\n",
      "250/250 [==============================] - 3s 10ms/step - loss: 0.6608 - accuracy: 0.7225 - val_loss: 0.6095 - val_accuracy: 0.7455\n",
      "Epoch 11/50\n",
      "250/250 [==============================] - 3s 11ms/step - loss: 0.6451 - accuracy: 0.7324 - val_loss: 0.5768 - val_accuracy: 0.7710\n",
      "Epoch 12/50\n",
      "250/250 [==============================] - 3s 11ms/step - loss: 0.6149 - accuracy: 0.7405 - val_loss: 0.5906 - val_accuracy: 0.7560\n",
      "Epoch 13/50\n",
      "250/250 [==============================] - 3s 10ms/step - loss: 0.5951 - accuracy: 0.7480 - val_loss: 0.5804 - val_accuracy: 0.7640\n",
      "Epoch 14/50\n",
      "250/250 [==============================] - 3s 10ms/step - loss: 0.5862 - accuracy: 0.7598 - val_loss: 0.5660 - val_accuracy: 0.7705\n",
      "Epoch 15/50\n",
      "250/250 [==============================] - 3s 11ms/step - loss: 0.5579 - accuracy: 0.7683 - val_loss: 0.5610 - val_accuracy: 0.7745\n",
      "Epoch 16/50\n",
      "250/250 [==============================] - 3s 10ms/step - loss: 0.5530 - accuracy: 0.7663 - val_loss: 0.5419 - val_accuracy: 0.7830\n",
      "Epoch 17/50\n",
      "250/250 [==============================] - 3s 11ms/step - loss: 0.5426 - accuracy: 0.7749 - val_loss: 0.5361 - val_accuracy: 0.7845\n",
      "Epoch 18/50\n",
      "250/250 [==============================] - 3s 10ms/step - loss: 0.5201 - accuracy: 0.7866 - val_loss: 0.5376 - val_accuracy: 0.7835\n",
      "Epoch 19/50\n",
      "250/250 [==============================] - 3s 11ms/step - loss: 0.5111 - accuracy: 0.7861 - val_loss: 0.5591 - val_accuracy: 0.7955\n",
      "Epoch 20/50\n",
      "250/250 [==============================] - 3s 10ms/step - loss: 0.5097 - accuracy: 0.7878 - val_loss: 0.5494 - val_accuracy: 0.7765\n",
      "Epoch 21/50\n",
      "250/250 [==============================] - 3s 10ms/step - loss: 0.4909 - accuracy: 0.7954 - val_loss: 0.5114 - val_accuracy: 0.8000\n",
      "Epoch 22/50\n",
      "250/250 [==============================] - 3s 11ms/step - loss: 0.4909 - accuracy: 0.7953 - val_loss: 0.5077 - val_accuracy: 0.7975\n",
      "Epoch 23/50\n",
      "250/250 [==============================] - 3s 10ms/step - loss: 0.4831 - accuracy: 0.7976 - val_loss: 0.5187 - val_accuracy: 0.8040\n",
      "Epoch 24/50\n",
      "250/250 [==============================] - 3s 10ms/step - loss: 0.4690 - accuracy: 0.8048 - val_loss: 0.5429 - val_accuracy: 0.7970\n",
      "Epoch 25/50\n",
      "250/250 [==============================] - 3s 10ms/step - loss: 0.4605 - accuracy: 0.8125 - val_loss: 0.5117 - val_accuracy: 0.8035\n",
      "Epoch 26/50\n",
      "250/250 [==============================] - 3s 10ms/step - loss: 0.4487 - accuracy: 0.8191 - val_loss: 0.5264 - val_accuracy: 0.8010\n",
      "Epoch 27/50\n",
      "250/250 [==============================] - 3s 11ms/step - loss: 0.4501 - accuracy: 0.8158 - val_loss: 0.5197 - val_accuracy: 0.8060\n",
      "Epoch 28/50\n",
      "250/250 [==============================] - 3s 11ms/step - loss: 0.4341 - accuracy: 0.8164 - val_loss: 0.4964 - val_accuracy: 0.8250\n",
      "Epoch 29/50\n",
      "250/250 [==============================] - 3s 10ms/step - loss: 0.4451 - accuracy: 0.8153 - val_loss: 0.5210 - val_accuracy: 0.8115\n",
      "Epoch 30/50\n",
      "250/250 [==============================] - 3s 11ms/step - loss: 0.4191 - accuracy: 0.8253 - val_loss: 0.4973 - val_accuracy: 0.8165\n",
      "Epoch 31/50\n",
      "250/250 [==============================] - 3s 11ms/step - loss: 0.4093 - accuracy: 0.8286 - val_loss: 0.4895 - val_accuracy: 0.8225\n",
      "Epoch 32/50\n",
      "250/250 [==============================] - 3s 10ms/step - loss: 0.3983 - accuracy: 0.8329 - val_loss: 0.4913 - val_accuracy: 0.8195\n",
      "Epoch 33/50\n",
      "250/250 [==============================] - 3s 11ms/step - loss: 0.4001 - accuracy: 0.8299 - val_loss: 0.4948 - val_accuracy: 0.8220\n",
      "Epoch 34/50\n",
      "250/250 [==============================] - 3s 11ms/step - loss: 0.3893 - accuracy: 0.8335 - val_loss: 0.4876 - val_accuracy: 0.8210\n",
      "Epoch 35/50\n",
      "250/250 [==============================] - 3s 11ms/step - loss: 0.3858 - accuracy: 0.8353 - val_loss: 0.4746 - val_accuracy: 0.8225\n",
      "Epoch 36/50\n",
      "250/250 [==============================] - 3s 11ms/step - loss: 0.3725 - accuracy: 0.8446 - val_loss: 0.4893 - val_accuracy: 0.8320\n",
      "Epoch 37/50\n",
      "250/250 [==============================] - 3s 11ms/step - loss: 0.3671 - accuracy: 0.8505 - val_loss: 0.4949 - val_accuracy: 0.8325\n",
      "Epoch 38/50\n",
      "250/250 [==============================] - 3s 11ms/step - loss: 0.3619 - accuracy: 0.8450 - val_loss: 0.4561 - val_accuracy: 0.8440\n",
      "Epoch 39/50\n",
      "250/250 [==============================] - 3s 11ms/step - loss: 0.3590 - accuracy: 0.8486 - val_loss: 0.4578 - val_accuracy: 0.8340\n",
      "Epoch 40/50\n",
      "250/250 [==============================] - 3s 10ms/step - loss: 0.3441 - accuracy: 0.8544 - val_loss: 0.4831 - val_accuracy: 0.8420\n",
      "Epoch 41/50\n",
      "250/250 [==============================] - 3s 11ms/step - loss: 0.3444 - accuracy: 0.8563 - val_loss: 0.5116 - val_accuracy: 0.8100\n",
      "Epoch 42/50\n",
      "250/250 [==============================] - 3s 11ms/step - loss: 0.3455 - accuracy: 0.8599 - val_loss: 0.4954 - val_accuracy: 0.8225\n",
      "Epoch 43/50\n",
      "250/250 [==============================] - 3s 10ms/step - loss: 0.3354 - accuracy: 0.8623 - val_loss: 0.4503 - val_accuracy: 0.8545\n",
      "Epoch 44/50\n",
      "250/250 [==============================] - 3s 11ms/step - loss: 0.3284 - accuracy: 0.8601 - val_loss: 0.4165 - val_accuracy: 0.8595\n"
     ]
    },
    {
     "name": "stdout",
     "output_type": "stream",
     "text": [
      "Epoch 45/50\n",
      "250/250 [==============================] - 3s 11ms/step - loss: 0.3194 - accuracy: 0.8655 - val_loss: 0.4661 - val_accuracy: 0.8385\n",
      "Epoch 46/50\n",
      "250/250 [==============================] - 3s 10ms/step - loss: 0.3112 - accuracy: 0.8691 - val_loss: 0.4656 - val_accuracy: 0.8635\n",
      "Epoch 47/50\n",
      "250/250 [==============================] - 3s 11ms/step - loss: 0.2978 - accuracy: 0.8745 - val_loss: 0.4729 - val_accuracy: 0.8410\n",
      "Epoch 48/50\n",
      "250/250 [==============================] - 3s 11ms/step - loss: 0.2956 - accuracy: 0.8773 - val_loss: 0.4802 - val_accuracy: 0.8395\n",
      "Epoch 49/50\n",
      "250/250 [==============================] - 3s 11ms/step - loss: 0.2883 - accuracy: 0.8828 - val_loss: 0.4605 - val_accuracy: 0.8575\n",
      "Epoch 50/50\n",
      "250/250 [==============================] - 3s 11ms/step - loss: 0.2957 - accuracy: 0.8816 - val_loss: 0.4354 - val_accuracy: 0.8710\n"
     ]
    }
   ],
   "source": [
    "inp = keras.layers.Input(shape = (50, 50));\n",
    "out = keras.layers.Flatten()(inp);\n",
    "out = keras.layers.Dense(2000, activation = 'relu')(out);\n",
    "out = keras.layers.Dropout(0.4)(out);\n",
    "out = keras.layers.Dense(2000, activation = 'relu')(out);\n",
    "out = keras.layers.Dropout(0.4)(out);\n",
    "out = keras.layers.Dense(1000, activation = 'relu')(out);\n",
    "out = keras.layers.Dropout(0.4)(out);\n",
    "out = keras.layers.Dense(1000, activation = 'relu')(out);\n",
    "out = keras.layers.Dropout(0.4)(out);\n",
    "out = keras.layers.Dense(5, activation = 'softmax')(out);\n",
    "\n",
    "model = keras.models.Model(inputs = inp, outputs = out);\n",
    "model.compile(optimizer = keras.optimizers.Adam(learning_rate = 3e-4), loss = 'sparse_categorical_crossentropy', metrics = ['accuracy']);\n",
    "model.summary();\n",
    "\n",
    "hist = model.fit(X, y, validation_split = 0.2, epochs = 50)"
   ]
  },
  {
   "cell_type": "code",
   "execution_count": 22,
   "id": "e8b0683f",
   "metadata": {
    "id": "3d888d83"
   },
   "outputs": [
    {
     "data": {
      "image/png": "[encoded data removed]",
      "text/plain": [
       "<Figure size 640x480 with 1 Axes>"
      ]
     },
     "metadata": {},
     "output_type": "display_data"
    }
   ],
   "source": [
    "pd.DataFrame(hist.history).plot()\n",
    "model.save('model.h5')"
   ]
  },
  {
   "cell_type": "code",
   "execution_count": null,
   "id": "9200eb18",
   "metadata": {
    "id": "ae85f9eb"
   },
   "outputs": [],
   "source": []
  }
 ],
 "metadata": {
  "accelerator": "GPU",
  "colab": {
   "collapsed_sections": [],
   "name": "",
   "version": ""
  },
  "gpuClass": "standard",
  "kernelspec": {
   "display_name": "Python [conda env:py3.9]",
   "language": "python",
   "name": "conda-env-py3.9-py"
  },
  "language_info": {
   "codemirror_mode": {
    "name": "ipython",
    "version": 3
   },
   "file_extension": ".py",
   "mimetype": "text/x-python",
   "name": "python",
   "nbconvert_exporter": "python",
   "pygments_lexer": "ipython3",
   "version": "3.9.13"
  }
 },
 "nbformat": 4,
 "nbformat_minor": 5
}
