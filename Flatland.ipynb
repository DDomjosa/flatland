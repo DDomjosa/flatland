{
 "cells": [
  {
   "cell_type": "code",
   "execution_count": 1,
   "id": "a98047ad",
   "metadata": {
    "executionInfo": {
     "elapsed": 33,
     "status": "ok",
     "timestamp": 1667736365400,
     "user": {
      "displayName": "DDomjosa",
      "userId": "08635069532973972876"
     },
     "user_tz": -120
    },
    "id": "10f6d9b8"
   },
   "outputs": [
    {
     "data": {
      "text/plain": [
       "[PhysicalDevice(name='/physical_device:CPU:0', device_type='CPU'),\n",
       " PhysicalDevice(name='/physical_device:GPU:0', device_type='GPU'),\n",
       " PhysicalDevice(name='/physical_device:GPU:1', device_type='GPU')]"
      ]
     },
     "execution_count": 1,
     "metadata": {},
     "output_type": "execute_result"
    }
   ],
   "source": [
    "import tensorflow as tf\n",
    "from tensorflow import keras\n",
    "from collections import Counter\n",
    "import matplotlib.pyplot as plt\n",
    "import pandas as pd\n",
    "import numpy as np\n",
    "\n",
    "tf.config.list_physical_devices()"
   ]
  },
  {
   "cell_type": "code",
   "execution_count": 2,
   "id": "75ad9324",
   "metadata": {
    "executionInfo": {
     "elapsed": 374,
     "status": "ok",
     "timestamp": 1667736374562,
     "user": {
      "displayName": "DDomjosa",
      "userId": "08635069532973972876"
     },
     "user_tz": -120
    },
    "id": "3e783b3c"
   },
   "outputs": [],
   "source": [
    "data = np.load('flatland_train.npz')\n",
    "X = data['X']\n",
    "y = data['y']\n",
    "y[y != 0] -= 2    # Correct labels so that triangle is mapped to class 1\n",
    "X = X / 255.      # Scale down to range [0, 1]"
   ]
  },
  {
   "cell_type": "code",
   "execution_count": 3,
   "id": "da138b13",
   "metadata": {
    "colab": {
     "base_uri": "https://localhost:8080/"
    },
    "executionInfo": {
     "elapsed": 14,
     "status": "ok",
     "timestamp": 1667736374562,
     "user": {
      "displayName": "DDomjosa",
      "userId": "08635069532973972876"
     },
     "user_tz": -120
    },
    "id": "5b3a4235",
    "outputId": "50a4aa12-cd7b-4843-c3f5-e7b0af2244ca"
   },
   "outputs": [
    {
     "data": {
      "text/plain": [
       "<matplotlib.image.AxesImage at 0x1e4a399e940>"
      ]
     },
     "execution_count": 3,
     "metadata": {},
     "output_type": "execute_result"
    },
    {
     "data": {
      "image/png": "[encoded data removed]",
      "text/plain": [
       "<Figure size 640x480 with 1 Axes>"
      ]
     },
     "metadata": {},
     "output_type": "display_data"
    }
   ],
   "source": [
    "plt.imshow(X[5], cmap = 'gray')"
   ]
  },
  {
   "cell_type": "code",
   "execution_count": 4,
   "id": "22eacc52",
   "metadata": {},
   "outputs": [
    {
     "data": {
      "text/plain": [
       "(10000, 50, 50)"
      ]
     },
     "execution_count": 4,
     "metadata": {},
     "output_type": "execute_result"
    }
   ],
   "source": [
    "X.shape"
   ]
  },
  {
   "cell_type": "code",
   "execution_count": 5,
   "id": "0324488d",
   "metadata": {
    "colab": {
     "base_uri": "https://localhost:8080/"
    },
    "executionInfo": {
     "elapsed": 14,
     "status": "ok",
     "timestamp": 1667736374563,
     "user": {
      "displayName": "DDomjosa",
      "userId": "08635069532973972876"
     },
     "user_tz": -120
    },
    "id": "9a8117e0",
    "outputId": "60207a8f-c6ad-4630-dc88-d574189ec8d0",
    "scrolled": true
   },
   "outputs": [
    {
     "data": {
      "text/plain": [
       "Counter({2.0: 1868, 4.0: 1761, 3.0: 2137, 1.0: 2853, 0.0: 1381})"
      ]
     },
     "execution_count": 5,
     "metadata": {},
     "output_type": "execute_result"
    }
   ],
   "source": [
    "Counter(y)"
   ]
  },
  {
   "cell_type": "code",
   "execution_count": 6,
   "id": "0133a22e",
   "metadata": {
    "executionInfo": {
     "elapsed": 346,
     "status": "ok",
     "timestamp": 1667736375433,
     "user": {
      "displayName": "DDomjosa",
      "userId": "08635069532973972876"
     },
     "user_tz": -120
    },
    "id": "17798147"
   },
   "outputs": [],
   "source": [
    "#X_train_aug = np.concatenate([X_train, X_train[..., ::-1]])\n",
    "#y_train_aug = np.concatenate([y_train, y_train])"
   ]
  },
  {
   "cell_type": "code",
   "execution_count": null,
   "id": "fcd5142d",
   "metadata": {
    "colab": {
     "background_save": true,
     "base_uri": "https://localhost:8080/"
    },
    "id": "d3e25e03",
    "scrolled": false
   },
   "outputs": [
    {
     "name": "stdout",
     "output_type": "stream",
     "text": [
      "Model: \"model_8\"\n",
      "_________________________________________________________________\n",
      " Layer (type)                Output Shape              Param #   \n",
      "=================================================================\n",
      " input_9 (InputLayer)        [(None, 50, 50)]          0         \n",
      "                                                                 \n",
      " flatten_8 (Flatten)         (None, 2500)              0         \n",
      "                                                                 \n",
      " dense_39 (Dense)            (None, 10000)             25010000  \n",
      "                                                                 \n",
      " dropout_4 (Dropout)         (None, 10000)             0         \n",
      "                                                                 \n",
      " dense_40 (Dense)            (None, 5000)              50005000  \n",
      "                                                                 \n",
      " dropout_5 (Dropout)         (None, 5000)              0         \n",
      "                                                                 \n",
      " dense_41 (Dense)            (None, 2000)              10002000  \n",
      "                                                                 \n",
      " dropout_6 (Dropout)         (None, 2000)              0         \n",
      "                                                                 \n",
      " dense_42 (Dense)            (None, 1000)              2001000   \n",
      "                                                                 \n",
      " dropout_7 (Dropout)         (None, 1000)              0         \n",
      "                                                                 \n",
      " dense_43 (Dense)            (None, 100)               100100    \n",
      "                                                                 \n",
      " dropout_8 (Dropout)         (None, 100)               0         \n",
      "                                                                 \n",
      " dense_44 (Dense)            (None, 5)                 505       \n",
      "                                                                 \n",
      "=================================================================\n",
      "Total params: 87,118,605\n",
      "Trainable params: 87,118,605\n",
      "Non-trainable params: 0\n",
      "_________________________________________________________________\n",
      "Epoch 1/50\n",
      "250/250 [==============================] - 8s 29ms/step - loss: 1.5621 - accuracy: 0.3140 - val_loss: 1.3242 - val_accuracy: 0.4460\n",
      "Epoch 2/50\n",
      "250/250 [==============================] - 7s 28ms/step - loss: 1.3324 - accuracy: 0.4359 - val_loss: 1.2310 - val_accuracy: 0.4820\n",
      "Epoch 3/50\n",
      "250/250 [==============================] - 7s 28ms/step - loss: 1.2404 - accuracy: 0.4729 - val_loss: 1.1226 - val_accuracy: 0.5205\n",
      "Epoch 4/50\n",
      "250/250 [==============================] - 7s 28ms/step - loss: 1.1668 - accuracy: 0.5140 - val_loss: 1.0716 - val_accuracy: 0.5420\n",
      "Epoch 5/50\n",
      "250/250 [==============================] - 7s 28ms/step - loss: 1.0608 - accuracy: 0.5471 - val_loss: 0.9100 - val_accuracy: 0.6150\n",
      "Epoch 6/50\n",
      "250/250 [==============================] - 7s 28ms/step - loss: 0.9740 - accuracy: 0.5930 - val_loss: 0.9010 - val_accuracy: 0.6165\n",
      "Epoch 7/50\n",
      "250/250 [==============================] - 7s 28ms/step - loss: 0.8957 - accuracy: 0.6230 - val_loss: 0.8231 - val_accuracy: 0.6610\n",
      "Epoch 8/50\n",
      "250/250 [==============================] - 7s 28ms/step - loss: 0.8272 - accuracy: 0.6581 - val_loss: 0.7243 - val_accuracy: 0.6935\n",
      "Epoch 9/50\n",
      "250/250 [==============================] - 7s 28ms/step - loss: 0.7923 - accuracy: 0.6735 - val_loss: 0.6848 - val_accuracy: 0.6930\n",
      "Epoch 10/50\n",
      "250/250 [==============================] - 7s 28ms/step - loss: 0.7480 - accuracy: 0.6909 - val_loss: 0.6819 - val_accuracy: 0.7220\n",
      "Epoch 11/50\n",
      "250/250 [==============================] - 7s 28ms/step - loss: 0.7307 - accuracy: 0.7013 - val_loss: 0.6787 - val_accuracy: 0.7075\n",
      "Epoch 12/50\n",
      "250/250 [==============================] - 7s 28ms/step - loss: 0.7034 - accuracy: 0.7126 - val_loss: 0.6228 - val_accuracy: 0.7430\n",
      "Epoch 13/50\n",
      "250/250 [==============================] - 7s 28ms/step - loss: 0.6894 - accuracy: 0.7144 - val_loss: 0.6597 - val_accuracy: 0.7300\n",
      "Epoch 14/50\n",
      "250/250 [==============================] - 7s 28ms/step - loss: 0.6600 - accuracy: 0.7320 - val_loss: 0.6438 - val_accuracy: 0.7330\n",
      "Epoch 15/50\n",
      "250/250 [==============================] - 7s 28ms/step - loss: 0.6306 - accuracy: 0.7376 - val_loss: 0.6632 - val_accuracy: 0.7340\n",
      "Epoch 16/50\n",
      "250/250 [==============================] - 7s 28ms/step - loss: 0.6215 - accuracy: 0.7450 - val_loss: 0.6178 - val_accuracy: 0.7525\n",
      "Epoch 17/50\n",
      "250/250 [==============================] - 7s 28ms/step - loss: 0.6252 - accuracy: 0.7486 - val_loss: 0.6265 - val_accuracy: 0.7605\n",
      "Epoch 18/50\n",
      "250/250 [==============================] - 7s 28ms/step - loss: 0.6030 - accuracy: 0.7560 - val_loss: 0.6748 - val_accuracy: 0.7290\n",
      "Epoch 19/50\n",
      "250/250 [==============================] - 7s 28ms/step - loss: 0.5948 - accuracy: 0.7560 - val_loss: 0.6082 - val_accuracy: 0.7655\n",
      "Epoch 20/50\n",
      "250/250 [==============================] - 7s 28ms/step - loss: 0.5897 - accuracy: 0.7619 - val_loss: 0.6122 - val_accuracy: 0.7660\n",
      "Epoch 21/50\n",
      "250/250 [==============================] - 7s 28ms/step - loss: 0.5733 - accuracy: 0.7665 - val_loss: 0.6042 - val_accuracy: 0.7600\n",
      "Epoch 22/50\n",
      "250/250 [==============================] - 7s 28ms/step - loss: 0.5668 - accuracy: 0.7716 - val_loss: 0.5884 - val_accuracy: 0.7780\n",
      "Epoch 23/50\n",
      "250/250 [==============================] - 7s 28ms/step - loss: 0.5477 - accuracy: 0.7776 - val_loss: 0.6525 - val_accuracy: 0.7575\n",
      "Epoch 24/50\n",
      "250/250 [==============================] - 7s 28ms/step - loss: 0.5441 - accuracy: 0.7779 - val_loss: 0.6048 - val_accuracy: 0.7795\n",
      "Epoch 25/50\n",
      "250/250 [==============================] - 7s 28ms/step - loss: 0.5356 - accuracy: 0.7829 - val_loss: 0.5838 - val_accuracy: 0.7695\n",
      "Epoch 26/50\n",
      "250/250 [==============================] - 7s 28ms/step - loss: 0.5351 - accuracy: 0.7803 - val_loss: 0.6299 - val_accuracy: 0.7480\n",
      "Epoch 27/50\n",
      "250/250 [==============================] - 7s 28ms/step - loss: 0.5404 - accuracy: 0.7800 - val_loss: 0.6292 - val_accuracy: 0.7710\n",
      "Epoch 28/50\n",
      "250/250 [==============================] - 7s 28ms/step - loss: 0.5064 - accuracy: 0.7986 - val_loss: 0.5679 - val_accuracy: 0.7890\n",
      "Epoch 29/50\n",
      "250/250 [==============================] - 7s 28ms/step - loss: 0.5124 - accuracy: 0.7914 - val_loss: 0.6271 - val_accuracy: 0.7630\n",
      "Epoch 30/50\n",
      "250/250 [==============================] - 7s 28ms/step - loss: 0.5068 - accuracy: 0.7965 - val_loss: 0.5820 - val_accuracy: 0.7815\n",
      "Epoch 31/50\n",
      "250/250 [==============================] - 7s 28ms/step - loss: 0.5104 - accuracy: 0.7931 - val_loss: 0.6097 - val_accuracy: 0.7885\n",
      "Epoch 32/50\n",
      "250/250 [==============================] - 7s 28ms/step - loss: 0.4744 - accuracy: 0.8003 - val_loss: 0.6513 - val_accuracy: 0.7890\n",
      "Epoch 33/50\n",
      "250/250 [==============================] - 7s 28ms/step - loss: 0.4770 - accuracy: 0.8069 - val_loss: 0.6077 - val_accuracy: 0.7815\n",
      "Epoch 34/50\n",
      "250/250 [==============================] - 7s 28ms/step - loss: 0.4715 - accuracy: 0.8044 - val_loss: 0.5862 - val_accuracy: 0.7865\n",
      "Epoch 35/50\n",
      "250/250 [==============================] - 7s 28ms/step - loss: 0.4645 - accuracy: 0.8071 - val_loss: 0.6604 - val_accuracy: 0.7800\n",
      "Epoch 36/50\n",
      "250/250 [==============================] - 7s 28ms/step - loss: 0.4669 - accuracy: 0.8071 - val_loss: 0.5813 - val_accuracy: 0.7950\n",
      "Epoch 37/50\n",
      "250/250 [==============================] - 7s 28ms/step - loss: 0.4655 - accuracy: 0.8050 - val_loss: 0.7151 - val_accuracy: 0.7690\n",
      "Epoch 38/50\n",
      " 11/250 [>.............................] - ETA: 6s - loss: 0.5351 - accuracy: 0.7670"
     ]
    }
   ],
   "source": [
    "inp = keras.layers.Input(shape = (50, 50));\n",
    "out = keras.layers.Flatten()(inp);\n",
    "out = keras.layers.Dense(10000, activation = 'relu')(out);\n",
    "out = keras.layers.Dropout(0.4)(out);\n",
    "out = keras.layers.Dense(5000, activation = 'relu')(out);\n",
    "out = keras.layers.Dropout(0.4)(out);\n",
    "out = keras.layers.Dense(2000, activation = 'relu')(out);\n",
    "out = keras.layers.Dropout(0.4)(out);\n",
    "out = keras.layers.Dense(1000, activation = 'relu')(out);\n",
    "out = keras.layers.Dropout(0.4)(out);\n",
    "out = keras.layers.Dense(100, activation = 'relu')(out);\n",
    "out = keras.layers.Dropout(0.4)(out);\n",
    "out = keras.layers.Dense(5, activation = 'softmax')(out);\n",
    "\n",
    "model = keras.models.Model(inputs = inp, outputs = out);\n",
    "model.compile(optimizer = keras.optimizers.Adam(learning_rate = 3e-4), loss = 'sparse_categorical_crossentropy', metrics = ['accuracy']);\n",
    "model.summary();\n",
    "\n",
    "hist = model.fit(X, y, validation_split = 0.2, epochs = 50)"
   ]
  },
  {
   "cell_type": "code",
   "execution_count": null,
   "id": "e8b0683f",
   "metadata": {
    "id": "3d888d83"
   },
   "outputs": [],
   "source": [
    "pd.DataFrame(hist.history).plot()\n",
    "model.save('model.h5')"
   ]
  },
  {
   "cell_type": "code",
   "execution_count": null,
   "id": "9200eb18",
   "metadata": {
    "id": "ae85f9eb"
   },
   "outputs": [],
   "source": []
  }
 ],
 "metadata": {
  "accelerator": "GPU",
  "colab": {
   "collapsed_sections": [],
   "name": "",
   "version": ""
  },
  "gpuClass": "standard",
  "kernelspec": {
   "display_name": "Python [conda env:py3.9]",
   "language": "python",
   "name": "conda-env-py3.9-py"
  },
  "language_info": {
   "codemirror_mode": {
    "name": "ipython",
    "version": 3
   },
   "file_extension": ".py",
   "mimetype": "text/x-python",
   "name": "python",
   "nbconvert_exporter": "python",
   "pygments_lexer": "ipython3",
   "version": "3.9.13"
  }
 },
 "nbformat": 4,
 "nbformat_minor": 5
}
