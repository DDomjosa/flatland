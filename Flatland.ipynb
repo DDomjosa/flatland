{
 "cells": [
  {
   "cell_type": "code",
   "execution_count": 1,
   "id": "a98047ad",
   "metadata": {
    "executionInfo": {
     "elapsed": 33,
     "status": "ok",
     "timestamp": 1667736365400,
     "user": {
      "displayName": "DDomjosa",
      "userId": "08635069532973972876"
     },
     "user_tz": -120
    },
    "id": "10f6d9b8"
   },
   "outputs": [
    {
     "data": {
      "text/plain": [
       "[PhysicalDevice(name='/physical_device:CPU:0', device_type='CPU'),\n",
       " PhysicalDevice(name='/physical_device:GPU:0', device_type='GPU'),\n",
       " PhysicalDevice(name='/physical_device:GPU:1', device_type='GPU')]"
      ]
     },
     "execution_count": 1,
     "metadata": {},
     "output_type": "execute_result"
    }
   ],
   "source": [
    "import tensorflow as tf\n",
    "from tensorflow import keras\n",
    "from collections import Counter\n",
    "import matplotlib.pyplot as plt\n",
    "import pandas as pd\n",
    "import numpy as np\n",
    "\n",
    "tf.config.list_physical_devices()"
   ]
  },
  {
   "cell_type": "code",
   "execution_count": 2,
   "id": "75ad9324",
   "metadata": {
    "executionInfo": {
     "elapsed": 374,
     "status": "ok",
     "timestamp": 1667736374562,
     "user": {
      "displayName": "DDomjosa",
      "userId": "08635069532973972876"
     },
     "user_tz": -120
    },
    "id": "3e783b3c"
   },
   "outputs": [],
   "source": [
    "data = np.load('flatland_train.npz')\n",
    "X = data['X']\n",
    "y = data['y']\n",
    "y[y != 0] -= 2    # Correct labels so that triangle is mapped to class 1\n",
    "X = X / 255.      # Scale down to range [0, 1]"
   ]
  },
  {
   "cell_type": "code",
   "execution_count": 3,
   "id": "da138b13",
   "metadata": {
    "colab": {
     "base_uri": "https://localhost:8080/"
    },
    "executionInfo": {
     "elapsed": 14,
     "status": "ok",
     "timestamp": 1667736374562,
     "user": {
      "displayName": "DDomjosa",
      "userId": "08635069532973972876"
     },
     "user_tz": -120
    },
    "id": "5b3a4235",
    "outputId": "50a4aa12-cd7b-4843-c3f5-e7b0af2244ca"
   },
   "outputs": [
    {
     "data": {
      "text/plain": [
       "<matplotlib.image.AxesImage at 0x1e4a399e940>"
      ]
     },
     "execution_count": 3,
     "metadata": {},
     "output_type": "execute_result"
    },
    {
     "data": {
      "image/png": "[encoded data removed]",
      "text/plain": [
       "<Figure size 640x480 with 1 Axes>"
      ]
     },
     "metadata": {},
     "output_type": "display_data"
    }
   ],
   "source": [
    "plt.imshow(X[5], cmap = 'gray')"
   ]
  },
  {
   "cell_type": "code",
   "execution_count": 4,
   "id": "22eacc52",
   "metadata": {},
   "outputs": [
    {
     "data": {
      "text/plain": [
       "(10000, 50, 50)"
      ]
     },
     "execution_count": 4,
     "metadata": {},
     "output_type": "execute_result"
    }
   ],
   "source": [
    "X.shape"
   ]
  },
  {
   "cell_type": "code",
   "execution_count": 5,
   "id": "0324488d",
   "metadata": {
    "colab": {
     "base_uri": "https://localhost:8080/"
    },
    "executionInfo": {
     "elapsed": 14,
     "status": "ok",
     "timestamp": 1667736374563,
     "user": {
      "displayName": "DDomjosa",
      "userId": "08635069532973972876"
     },
     "user_tz": -120
    },
    "id": "9a8117e0",
    "outputId": "60207a8f-c6ad-4630-dc88-d574189ec8d0",
    "scrolled": true
   },
   "outputs": [
    {
     "data": {
      "text/plain": [
       "Counter({2.0: 1868, 4.0: 1761, 3.0: 2137, 1.0: 2853, 0.0: 1381})"
      ]
     },
     "execution_count": 5,
     "metadata": {},
     "output_type": "execute_result"
    }
   ],
   "source": [
    "Counter(y)"
   ]
  },
  {
   "cell_type": "code",
   "execution_count": 6,
   "id": "0133a22e",
   "metadata": {
    "executionInfo": {
     "elapsed": 346,
     "status": "ok",
     "timestamp": 1667736375433,
     "user": {
      "displayName": "DDomjosa",
      "userId": "08635069532973972876"
     },
     "user_tz": -120
    },
    "id": "17798147"
   },
   "outputs": [],
   "source": [
    "#X_train_aug = np.concatenate([X_train, X_train[..., ::-1]])\n",
    "#y_train_aug = np.concatenate([y_train, y_train])"
   ]
  },
  {
   "cell_type": "code",
   "execution_count": null,
   "id": "fcd5142d",
   "metadata": {
    "colab": {
     "background_save": true,
     "base_uri": "https://localhost:8080/"
    },
    "id": "d3e25e03",
    "scrolled": true
   },
   "outputs": [
    {
     "name": "stdout",
     "output_type": "stream",
     "text": [
      "Model: \"model_2\"\n",
      "_________________________________________________________________\n",
      " Layer (type)                Output Shape              Param #   \n",
      "=================================================================\n",
      " input_3 (InputLayer)        [(None, 50, 50)]          0         \n",
      "                                                                 \n",
      " flatten_2 (Flatten)         (None, 2500)              0         \n",
      "                                                                 \n",
      " dense_8 (Dense)             (None, 200)               500200    \n",
      "                                                                 \n",
      " dense_9 (Dense)             (None, 200)               40200     \n",
      "                                                                 \n",
      " dense_10 (Dense)            (None, 200)               40200     \n",
      "                                                                 \n",
      " dense_11 (Dense)            (None, 200)               40200     \n",
      "                                                                 \n",
      " dense_12 (Dense)            (None, 200)               40200     \n",
      "                                                                 \n",
      " dense_13 (Dense)            (None, 5)                 1005      \n",
      "                                                                 \n",
      "=================================================================\n",
      "Total params: 662,005\n",
      "Trainable params: 662,005\n",
      "Non-trainable params: 0\n",
      "_________________________________________________________________\n",
      "Epoch 1/30\n",
      "250/250 [==============================] - 3s 8ms/step - loss: 1.2713 - accuracy: 0.4696 - val_loss: 1.1370 - val_accuracy: 0.4980\n",
      "Epoch 2/30\n",
      "250/250 [==============================] - 2s 6ms/step - loss: 1.0054 - accuracy: 0.5739 - val_loss: 0.8555 - val_accuracy: 0.6375\n",
      "Epoch 3/30\n",
      "250/250 [==============================] - 2s 6ms/step - loss: 0.7644 - accuracy: 0.6794 - val_loss: 0.7093 - val_accuracy: 0.7115\n",
      "Epoch 4/30\n",
      "250/250 [==============================] - 2s 6ms/step - loss: 0.6349 - accuracy: 0.7353 - val_loss: 0.6613 - val_accuracy: 0.7105\n",
      "Epoch 5/30\n",
      "250/250 [==============================] - 2s 6ms/step - loss: 0.5731 - accuracy: 0.7593 - val_loss: 0.6525 - val_accuracy: 0.7155\n",
      "Epoch 6/30\n",
      "250/250 [==============================] - 2s 6ms/step - loss: 0.5235 - accuracy: 0.7796 - val_loss: 0.6365 - val_accuracy: 0.7325\n",
      "Epoch 7/30\n",
      "250/250 [==============================] - 2s 6ms/step - loss: 0.4918 - accuracy: 0.7935 - val_loss: 0.5938 - val_accuracy: 0.7660\n",
      "Epoch 8/30\n",
      "250/250 [==============================] - 2s 6ms/step - loss: 0.4526 - accuracy: 0.8096 - val_loss: 0.6019 - val_accuracy: 0.7450\n",
      "Epoch 9/30\n",
      "250/250 [==============================] - 2s 6ms/step - loss: 0.4216 - accuracy: 0.8245 - val_loss: 0.5357 - val_accuracy: 0.7995\n",
      "Epoch 10/30\n",
      "250/250 [==============================] - 2s 6ms/step - loss: 0.4002 - accuracy: 0.8304 - val_loss: 0.5073 - val_accuracy: 0.7970\n",
      "Epoch 11/30\n",
      "250/250 [==============================] - 2s 6ms/step - loss: 0.3729 - accuracy: 0.8443 - val_loss: 0.5375 - val_accuracy: 0.8100\n",
      "Epoch 12/30\n",
      "250/250 [==============================] - 2s 6ms/step - loss: 0.3532 - accuracy: 0.8585 - val_loss: 0.5606 - val_accuracy: 0.7910\n",
      "Epoch 13/30\n",
      "250/250 [==============================] - 2s 6ms/step - loss: 0.2992 - accuracy: 0.8761 - val_loss: 0.5935 - val_accuracy: 0.8025\n",
      "Epoch 14/30\n",
      "250/250 [==============================] - 2s 6ms/step - loss: 0.2758 - accuracy: 0.8889 - val_loss: 0.4881 - val_accuracy: 0.8300\n",
      "Epoch 15/30\n",
      "250/250 [==============================] - 2s 6ms/step - loss: 0.2590 - accuracy: 0.9001 - val_loss: 0.4406 - val_accuracy: 0.8520\n",
      "Epoch 16/30\n",
      "250/250 [==============================] - 2s 6ms/step - loss: 0.2332 - accuracy: 0.9080 - val_loss: 0.4363 - val_accuracy: 0.8570\n",
      "Epoch 17/30\n",
      "250/250 [==============================] - 2s 6ms/step - loss: 0.2047 - accuracy: 0.9250 - val_loss: 0.4501 - val_accuracy: 0.8675\n",
      "Epoch 18/30\n",
      "250/250 [==============================] - 2s 6ms/step - loss: 0.2034 - accuracy: 0.9240 - val_loss: 0.5331 - val_accuracy: 0.8490\n",
      "Epoch 19/30\n",
      "250/250 [==============================] - 2s 6ms/step - loss: 0.2026 - accuracy: 0.9256 - val_loss: 0.5287 - val_accuracy: 0.8290\n",
      "Epoch 20/30\n",
      " 21/250 [=>............................] - ETA: 1s - loss: 0.1738 - accuracy: 0.9390"
     ]
    }
   ],
   "source": [
    "inp = keras.layers.Input(shape = (50, 50));\n",
    "out = keras.layers.Flatten()(inp);\n",
    "out = keras.layers.Dense(200, activation = 'relu')(out);\n",
    "out = keras.layers.Dense(200, activation = 'relu')(out);\n",
    "out = keras.layers.Dense(200, activation = 'relu')(out);\n",
    "out = keras.layers.Dense(200, activation = 'relu')(out);\n",
    "out = keras.layers.Dense(200, activation = 'relu')(out);\n",
    "#out = keras.layers.Dropout(0.4)(out);\n",
    "out = keras.layers.Dense(5, activation = 'softmax')(out);\n",
    "\n",
    "model = keras.models.Model(inputs = inp, outputs = out);\n",
    "model.compile(optimizer = keras.optimizers.Adam(learning_rate = 3e-4), loss = 'sparse_categorical_crossentropy', metrics = ['accuracy']);\n",
    "model.summary();\n",
    "\n",
    "hist = model.fit(X, y, validation_split = 0.2, epochs = 30)"
   ]
  },
  {
   "cell_type": "code",
   "execution_count": 10,
   "id": "e8b0683f",
   "metadata": {
    "id": "3d888d83"
   },
   "outputs": [
    {
     "data": {
      "image/png": "[encoded data removed]",
      "text/plain": [
       "<Figure size 640x480 with 1 Axes>"
      ]
     },
     "metadata": {},
     "output_type": "display_data"
    }
   ],
   "source": [
    "pd.DataFrame(hist.history).plot()\n",
    "model.save('model.h5')"
   ]
  },
  {
   "cell_type": "code",
   "execution_count": null,
   "id": "9200eb18",
   "metadata": {
    "id": "ae85f9eb"
   },
   "outputs": [],
   "source": []
  }
 ],
 "metadata": {
  "accelerator": "GPU",
  "colab": {
   "collapsed_sections": [],
   "name": "",
   "version": ""
  },
  "gpuClass": "standard",
  "kernelspec": {
   "display_name": "Python [conda env:py3.9]",
   "language": "python",
   "name": "conda-env-py3.9-py"
  },
  "language_info": {
   "codemirror_mode": {
    "name": "ipython",
    "version": 3
   },
   "file_extension": ".py",
   "mimetype": "text/x-python",
   "name": "python",
   "nbconvert_exporter": "python",
   "pygments_lexer": "ipython3",
   "version": "3.9.13"
  }
 },
 "nbformat": 4,
 "nbformat_minor": 5
}
