{
 "cells": [
  {
   "cell_type": "code",
   "execution_count": 2,
   "id": "a98047ad",
   "metadata": {
    "executionInfo": {
     "elapsed": 33,
     "status": "ok",
     "timestamp": 1667736365400,
     "user": {
      "displayName": "DDomjosa",
      "userId": "08635069532973972876"
     },
     "user_tz": -120
    },
    "id": "10f6d9b8"
   },
   "outputs": [
    {
     "data": {
      "text/plain": [
       "[PhysicalDevice(name='/physical_device:CPU:0', device_type='CPU'),\n",
       " PhysicalDevice(name='/physical_device:GPU:0', device_type='GPU'),\n",
       " PhysicalDevice(name='/physical_device:GPU:1', device_type='GPU')]"
      ]
     },
     "execution_count": 2,
     "metadata": {},
     "output_type": "execute_result"
    }
   ],
   "source": [
    "import tensorflow as tf\n",
    "from tensorflow import keras\n",
    "from collections import Counter\n",
    "import matplotlib.pyplot as plt\n",
    "import pandas as pd\n",
    "import numpy as np\n",
    "\n",
    "tf.config.list_physical_devices()"
   ]
  },
  {
   "cell_type": "code",
   "execution_count": 3,
   "id": "75ad9324",
   "metadata": {
    "executionInfo": {
     "elapsed": 374,
     "status": "ok",
     "timestamp": 1667736374562,
     "user": {
      "displayName": "DDomjosa",
      "userId": "08635069532973972876"
     },
     "user_tz": -120
    },
    "id": "3e783b3c"
   },
   "outputs": [],
   "source": [
    "data = np.load('flatland_train.npz')\n",
    "X = data['X']\n",
    "y = data['y']\n",
    "y[y != 0] -= 2    # Correct labels so that triangle is mapped to class 1\n",
    "X = X / 255.      # Scale down to range [0, 1]"
   ]
  },
  {
   "cell_type": "code",
   "execution_count": 4,
   "id": "da138b13",
   "metadata": {
    "colab": {
     "base_uri": "https://localhost:8080/"
    },
    "executionInfo": {
     "elapsed": 14,
     "status": "ok",
     "timestamp": 1667736374562,
     "user": {
      "displayName": "DDomjosa",
      "userId": "08635069532973972876"
     },
     "user_tz": -120
    },
    "id": "5b3a4235",
    "outputId": "50a4aa12-cd7b-4843-c3f5-e7b0af2244ca"
   },
   "outputs": [
    {
     "data": {
      "text/plain": [
       "<matplotlib.image.AxesImage at 0x2450c75cfa0>"
      ]
     },
     "execution_count": 4,
     "metadata": {},
     "output_type": "execute_result"
    },
    {
     "data": {
      "image/png": "[encoded data removed]",
      "text/plain": [
       "<Figure size 640x480 with 1 Axes>"
      ]
     },
     "metadata": {},
     "output_type": "display_data"
    }
   ],
   "source": [
    "plt.imshow(X[5], cmap = 'gray')"
   ]
  },
  {
   "cell_type": "code",
   "execution_count": 5,
   "id": "22eacc52",
   "metadata": {},
   "outputs": [
    {
     "data": {
      "text/plain": [
       "(10000, 50, 50)"
      ]
     },
     "execution_count": 5,
     "metadata": {},
     "output_type": "execute_result"
    }
   ],
   "source": [
    "X.shape"
   ]
  },
  {
   "cell_type": "code",
   "execution_count": 6,
   "id": "0324488d",
   "metadata": {
    "colab": {
     "base_uri": "https://localhost:8080/"
    },
    "executionInfo": {
     "elapsed": 14,
     "status": "ok",
     "timestamp": 1667736374563,
     "user": {
      "displayName": "DDomjosa",
      "userId": "08635069532973972876"
     },
     "user_tz": -120
    },
    "id": "9a8117e0",
    "outputId": "60207a8f-c6ad-4630-dc88-d574189ec8d0",
    "scrolled": true
   },
   "outputs": [
    {
     "data": {
      "text/plain": [
       "Counter({2.0: 1868, 4.0: 1761, 3.0: 2137, 1.0: 2853, 0.0: 1381})"
      ]
     },
     "execution_count": 6,
     "metadata": {},
     "output_type": "execute_result"
    }
   ],
   "source": [
    "Counter(y)"
   ]
  },
  {
   "cell_type": "code",
   "execution_count": 7,
   "id": "0133a22e",
   "metadata": {
    "executionInfo": {
     "elapsed": 346,
     "status": "ok",
     "timestamp": 1667736375433,
     "user": {
      "displayName": "DDomjosa",
      "userId": "08635069532973972876"
     },
     "user_tz": -120
    },
    "id": "17798147"
   },
   "outputs": [],
   "source": [
    "#X_train_aug = np.concatenate([X_train, X_train[..., ::-1]])\n",
    "#y_train_aug = np.concatenate([y_train, y_train])"
   ]
  },
  {
   "cell_type": "code",
   "execution_count": 14,
   "id": "fcd5142d",
   "metadata": {
    "colab": {
     "background_save": true,
     "base_uri": "https://localhost:8080/"
    },
    "id": "d3e25e03",
    "scrolled": false
   },
   "outputs": [
    {
     "name": "stdout",
     "output_type": "stream",
     "text": [
      "Model: \"model_5\"\n",
      "_________________________________________________________________\n",
      " Layer (type)                Output Shape              Param #   \n",
      "=================================================================\n",
      " input_6 (InputLayer)        [(None, 50, 50)]          0         \n",
      "                                                                 \n",
      " flatten_5 (Flatten)         (None, 2500)              0         \n",
      "                                                                 \n",
      " dense_22 (Dense)            (None, 10000)             25010000  \n",
      "                                                                 \n",
      " dense_23 (Dense)            (None, 5000)              50005000  \n",
      "                                                                 \n",
      " dense_24 (Dense)            (None, 5000)              25005000  \n",
      "                                                                 \n",
      " dense_25 (Dense)            (None, 5000)              25005000  \n",
      "                                                                 \n",
      " dense_26 (Dense)            (None, 5000)              25005000  \n",
      "                                                                 \n",
      " dense_27 (Dense)            (None, 5)                 25005     \n",
      "                                                                 \n",
      "=================================================================\n",
      "Total params: 150,055,005\n",
      "Trainable params: 150,055,005\n",
      "Non-trainable params: 0\n",
      "_________________________________________________________________\n",
      "Epoch 1/30\n",
      "250/250 [==============================] - 9s 36ms/step - loss: 1.3082 - accuracy: 0.4481 - val_loss: 1.1720 - val_accuracy: 0.4840\n",
      "Epoch 2/30\n",
      "250/250 [==============================] - 9s 35ms/step - loss: 1.0716 - accuracy: 0.5511 - val_loss: 0.9389 - val_accuracy: 0.6010\n",
      "Epoch 3/30\n",
      "250/250 [==============================] - 9s 35ms/step - loss: 0.8374 - accuracy: 0.6524 - val_loss: 0.7664 - val_accuracy: 0.6705\n",
      "Epoch 4/30\n",
      "250/250 [==============================] - 9s 35ms/step - loss: 0.7219 - accuracy: 0.6905 - val_loss: 0.7058 - val_accuracy: 0.6975\n",
      "Epoch 5/30\n",
      "250/250 [==============================] - 9s 35ms/step - loss: 0.6545 - accuracy: 0.7240 - val_loss: 0.6968 - val_accuracy: 0.7075\n",
      "Epoch 6/30\n",
      "250/250 [==============================] - 9s 35ms/step - loss: 0.5873 - accuracy: 0.7509 - val_loss: 0.5866 - val_accuracy: 0.7500\n",
      "Epoch 7/30\n",
      "250/250 [==============================] - 9s 35ms/step - loss: 0.5486 - accuracy: 0.7695 - val_loss: 0.5652 - val_accuracy: 0.7625\n",
      "Epoch 8/30\n",
      "250/250 [==============================] - 9s 35ms/step - loss: 0.5154 - accuracy: 0.7848 - val_loss: 0.6140 - val_accuracy: 0.7530\n",
      "Epoch 9/30\n",
      "250/250 [==============================] - 9s 35ms/step - loss: 0.4943 - accuracy: 0.7941 - val_loss: 0.6105 - val_accuracy: 0.7540\n",
      "Epoch 10/30\n",
      "250/250 [==============================] - 9s 35ms/step - loss: 0.4525 - accuracy: 0.8103 - val_loss: 0.5473 - val_accuracy: 0.7730\n",
      "Epoch 11/30\n",
      "250/250 [==============================] - 9s 35ms/step - loss: 0.4573 - accuracy: 0.8073 - val_loss: 0.5323 - val_accuracy: 0.7940\n",
      "Epoch 12/30\n",
      "250/250 [==============================] - 9s 35ms/step - loss: 0.4274 - accuracy: 0.8230 - val_loss: 0.5693 - val_accuracy: 0.7855\n",
      "Epoch 13/30\n",
      "250/250 [==============================] - 9s 35ms/step - loss: 0.3904 - accuracy: 0.8346 - val_loss: 0.5152 - val_accuracy: 0.7930\n",
      "Epoch 14/30\n",
      "250/250 [==============================] - 9s 35ms/step - loss: 0.3768 - accuracy: 0.8429 - val_loss: 0.5524 - val_accuracy: 0.7865\n",
      "Epoch 15/30\n",
      "250/250 [==============================] - 9s 35ms/step - loss: 0.3445 - accuracy: 0.8558 - val_loss: 0.4814 - val_accuracy: 0.8245\n",
      "Epoch 16/30\n",
      "250/250 [==============================] - 9s 35ms/step - loss: 0.3388 - accuracy: 0.8631 - val_loss: 0.5615 - val_accuracy: 0.8170\n",
      "Epoch 17/30\n",
      "250/250 [==============================] - 9s 35ms/step - loss: 0.3107 - accuracy: 0.8751 - val_loss: 0.4635 - val_accuracy: 0.8325\n",
      "Epoch 18/30\n",
      "250/250 [==============================] - 9s 35ms/step - loss: 0.2870 - accuracy: 0.8873 - val_loss: 0.4679 - val_accuracy: 0.8355\n",
      "Epoch 19/30\n",
      "250/250 [==============================] - 9s 35ms/step - loss: 0.2681 - accuracy: 0.8969 - val_loss: 0.5020 - val_accuracy: 0.8505\n",
      "Epoch 20/30\n",
      "250/250 [==============================] - 9s 35ms/step - loss: 0.2681 - accuracy: 0.8899 - val_loss: 0.5440 - val_accuracy: 0.8370\n",
      "Epoch 21/30\n",
      "250/250 [==============================] - 9s 35ms/step - loss: 0.2509 - accuracy: 0.9044 - val_loss: 0.4871 - val_accuracy: 0.8410\n",
      "Epoch 22/30\n",
      "250/250 [==============================] - 9s 35ms/step - loss: 0.2293 - accuracy: 0.9094 - val_loss: 0.4737 - val_accuracy: 0.8635\n",
      "Epoch 23/30\n",
      "250/250 [==============================] - 9s 36ms/step - loss: 0.2332 - accuracy: 0.9178 - val_loss: 0.4136 - val_accuracy: 0.8665\n",
      "Epoch 24/30\n",
      "250/250 [==============================] - 9s 35ms/step - loss: 0.2123 - accuracy: 0.9201 - val_loss: 0.4838 - val_accuracy: 0.8560\n",
      "Epoch 25/30\n",
      "250/250 [==============================] - 9s 35ms/step - loss: 0.1829 - accuracy: 0.9291 - val_loss: 0.4823 - val_accuracy: 0.8595\n",
      "Epoch 26/30\n",
      "250/250 [==============================] - 9s 35ms/step - loss: 0.1994 - accuracy: 0.9280 - val_loss: 0.4158 - val_accuracy: 0.8705\n",
      "Epoch 27/30\n",
      "250/250 [==============================] - 9s 35ms/step - loss: 0.1849 - accuracy: 0.9339 - val_loss: 0.3985 - val_accuracy: 0.8795\n",
      "Epoch 28/30\n",
      "250/250 [==============================] - 9s 35ms/step - loss: 0.1556 - accuracy: 0.9445 - val_loss: 0.3807 - val_accuracy: 0.9045\n",
      "Epoch 29/30\n",
      "250/250 [==============================] - 9s 35ms/step - loss: 0.1615 - accuracy: 0.9438 - val_loss: 0.3961 - val_accuracy: 0.8840\n",
      "Epoch 30/30\n",
      "250/250 [==============================] - 9s 35ms/step - loss: 0.1566 - accuracy: 0.9469 - val_loss: 0.4050 - val_accuracy: 0.8910\n"
     ]
    }
   ],
   "source": [
    "inp = keras.layers.Input(shape = (50, 50));\n",
    "out = keras.layers.Flatten()(inp);\n",
    "out = keras.layers.Dense(10000, activation = 'relu')(out);\n",
    "out = keras.layers.Dense(5000, activation = 'relu')(out);\n",
    "out = keras.layers.Dense(5000, activation = 'relu')(out);\n",
    "out = keras.layers.Dense(5000, activation = 'relu')(out);\n",
    "out = keras.layers.Dense(5000, activation = 'relu')(out);\n",
    "#out = keras.layers.Dropout(0.4)(out);\n",
    "out = keras.layers.Dense(5, activation = 'softmax')(out);\n",
    "\n",
    "model = keras.models.Model(inputs = inp, outputs = out);\n",
    "model.compile(optimizer = keras.optimizers.Adam(learning_rate = 3e-4), loss = 'sparse_categorical_crossentropy', metrics = ['accuracy']);\n",
    "model.summary();\n",
    "\n",
    "hist = model.fit(X, y, validation_split = 0.2, epochs = 30)"
   ]
  },
  {
   "cell_type": "code",
   "execution_count": 15,
   "id": "e8b0683f",
   "metadata": {
    "id": "3d888d83"
   },
   "outputs": [
    {
     "data": {
      "image/png": "[encoded data removed]",
      "text/plain": [
       "<Figure size 640x480 with 1 Axes>"
      ]
     },
     "metadata": {},
     "output_type": "display_data"
    }
   ],
   "source": [
    "pd.DataFrame(hist.history).plot()\n",
    "model.save('model.h5')"
   ]
  },
  {
   "cell_type": "code",
   "execution_count": null,
   "id": "9200eb18",
   "metadata": {
    "id": "ae85f9eb"
   },
   "outputs": [],
   "source": []
  }
 ],
 "metadata": {
  "accelerator": "GPU",
  "colab": {
   "collapsed_sections": [],
   "name": "",
   "version": ""
  },
  "gpuClass": "standard",
  "kernelspec": {
   "display_name": "Python [conda env:py3.9]",
   "language": "python",
   "name": "conda-env-py3.9-py"
  },
  "language_info": {
   "codemirror_mode": {
    "name": "ipython",
    "version": 3
   },
   "file_extension": ".py",
   "mimetype": "text/x-python",
   "name": "python",
   "nbconvert_exporter": "python",
   "pygments_lexer": "ipython3",
   "version": "3.9.13"
  }
 },
 "nbformat": 4,
 "nbformat_minor": 5
}
