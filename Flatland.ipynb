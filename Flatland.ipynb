{
 "cells": [
  {
   "cell_type": "code",
   "execution_count": 2,
   "id": "a98047ad",
   "metadata": {
    "executionInfo": {
     "elapsed": 33,
     "status": "ok",
     "timestamp": 1667736365400,
     "user": {
      "displayName": "DDomjosa",
      "userId": "08635069532973972876"
     },
     "user_tz": -120
    },
    "id": "10f6d9b8"
   },
   "outputs": [
    {
     "data": {
      "text/plain": [
       "[PhysicalDevice(name='/physical_device:CPU:0', device_type='CPU'),\n",
       " PhysicalDevice(name='/physical_device:GPU:0', device_type='GPU'),\n",
       " PhysicalDevice(name='/physical_device:GPU:1', device_type='GPU')]"
      ]
     },
     "execution_count": 2,
     "metadata": {},
     "output_type": "execute_result"
    }
   ],
   "source": [
    "import tensorflow as tf\n",
    "from tensorflow import keras\n",
    "from keras import layers\n",
    "from collections import Counter\n",
    "import matplotlib.pyplot as plt\n",
    "import pandas as pd\n",
    "import numpy as np\n",
    "\n",
    "tf.config.list_physical_devices()"
   ]
  },
  {
   "cell_type": "code",
   "execution_count": 3,
   "id": "75ad9324",
   "metadata": {
    "executionInfo": {
     "elapsed": 374,
     "status": "ok",
     "timestamp": 1667736374562,
     "user": {
      "displayName": "DDomjosa",
      "userId": "08635069532973972876"
     },
     "user_tz": -120
    },
    "id": "3e783b3c"
   },
   "outputs": [],
   "source": [
    "data = np.load('flatland_train.npz')\n",
    "X = data['X']\n",
    "y = data['y']\n",
    "y[y != 0] -= 2    # Correct labels so that triangle is mapped to class 1\n",
    "X = X.reshape(X.shape[0], 50, 50, 1) / 255"
   ]
  },
  {
   "cell_type": "code",
   "execution_count": 4,
   "id": "da138b13",
   "metadata": {
    "colab": {
     "base_uri": "https://localhost:8080/"
    },
    "executionInfo": {
     "elapsed": 14,
     "status": "ok",
     "timestamp": 1667736374562,
     "user": {
      "displayName": "DDomjosa",
      "userId": "08635069532973972876"
     },
     "user_tz": -120
    },
    "id": "5b3a4235",
    "outputId": "50a4aa12-cd7b-4843-c3f5-e7b0af2244ca"
   },
   "outputs": [
    {
     "data": {
      "text/plain": [
       "<matplotlib.image.AxesImage at 0x14783272b50>"
      ]
     },
     "execution_count": 4,
     "metadata": {},
     "output_type": "execute_result"
    },
    {
     "data": {
      "image/png": "[encoded data removed]",
      "text/plain": [
       "<Figure size 640x480 with 1 Axes>"
      ]
     },
     "metadata": {},
     "output_type": "display_data"
    }
   ],
   "source": [
    "plt.imshow(X[5], cmap = 'gray')"
   ]
  },
  {
   "cell_type": "code",
   "execution_count": 5,
   "id": "22eacc52",
   "metadata": {},
   "outputs": [
    {
     "data": {
      "text/plain": [
       "(10000, 50, 50, 1)"
      ]
     },
     "execution_count": 5,
     "metadata": {},
     "output_type": "execute_result"
    }
   ],
   "source": [
    "X.shape"
   ]
  },
  {
   "cell_type": "code",
   "execution_count": 6,
   "id": "0324488d",
   "metadata": {
    "colab": {
     "base_uri": "https://localhost:8080/"
    },
    "executionInfo": {
     "elapsed": 14,
     "status": "ok",
     "timestamp": 1667736374563,
     "user": {
      "displayName": "DDomjosa",
      "userId": "08635069532973972876"
     },
     "user_tz": -120
    },
    "id": "9a8117e0",
    "outputId": "60207a8f-c6ad-4630-dc88-d574189ec8d0",
    "scrolled": true
   },
   "outputs": [
    {
     "data": {
      "text/plain": [
       "Counter({2.0: 1868, 4.0: 1761, 3.0: 2137, 1.0: 2853, 0.0: 1381})"
      ]
     },
     "execution_count": 6,
     "metadata": {},
     "output_type": "execute_result"
    }
   ],
   "source": [
    "Counter(y)"
   ]
  },
  {
   "cell_type": "code",
   "execution_count": 7,
   "id": "0133a22e",
   "metadata": {
    "executionInfo": {
     "elapsed": 346,
     "status": "ok",
     "timestamp": 1667736375433,
     "user": {
      "displayName": "DDomjosa",
      "userId": "08635069532973972876"
     },
     "user_tz": -120
    },
    "id": "17798147"
   },
   "outputs": [],
   "source": [
    "#X_train_aug = np.concatenate([X_train, X_train[..., ::-1]])\n",
    "#y_train_aug = np.concatenate([y_train, y_train])"
   ]
  },
  {
   "cell_type": "code",
   "execution_count": null,
   "id": "fcd5142d",
   "metadata": {
    "colab": {
     "background_save": true,
     "base_uri": "https://localhost:8080/"
    },
    "id": "d3e25e03",
    "scrolled": false
   },
   "outputs": [
    {
     "name": "stdout",
     "output_type": "stream",
     "text": [
      "Model: \"model_8\"\n",
      "_________________________________________________________________\n",
      " Layer (type)                Output Shape              Param #   \n",
      "=================================================================\n",
      " input_9 (InputLayer)        [(None, 50, 50, 1)]       0         \n",
      "                                                                 \n",
      " random_flip_8 (RandomFlip)  (None, 50, 50, 1)         0         \n",
      "                                                                 \n",
      " conv2d_24 (Conv2D)          (None, 48, 48, 8)         80        \n",
      "                                                                 \n",
      " max_pooling2d_12 (MaxPoolin  (None, 24, 24, 8)        0         \n",
      " g2D)                                                            \n",
      "                                                                 \n",
      " conv2d_25 (Conv2D)          (None, 22, 22, 8)         584       \n",
      "                                                                 \n",
      " max_pooling2d_13 (MaxPoolin  (None, 11, 11, 8)        0         \n",
      " g2D)                                                            \n",
      "                                                                 \n",
      " conv2d_26 (Conv2D)          (None, 9, 9, 16)          1168      \n",
      "                                                                 \n",
      " max_pooling2d_14 (MaxPoolin  (None, 4, 4, 16)         0         \n",
      " g2D)                                                            \n",
      "                                                                 \n",
      " flatten_8 (Flatten)         (None, 256)               0         \n",
      "                                                                 \n",
      " dense_40 (Dense)            (None, 2000)              514000    \n",
      "                                                                 \n",
      " dropout_44 (Dropout)        (None, 2000)              0         \n",
      "                                                                 \n",
      " dense_41 (Dense)            (None, 1000)              2001000   \n",
      "                                                                 \n",
      " dropout_45 (Dropout)        (None, 1000)              0         \n",
      "                                                                 \n",
      " dense_42 (Dense)            (None, 500)               500500    \n",
      "                                                                 \n",
      " dropout_46 (Dropout)        (None, 500)               0         \n",
      "                                                                 \n",
      " dense_43 (Dense)            (None, 200)               100200    \n",
      "                                                                 \n",
      " dropout_47 (Dropout)        (None, 200)               0         \n",
      "                                                                 \n",
      " dense_44 (Dense)            (None, 5)                 1005      \n",
      "                                                                 \n",
      "=================================================================\n",
      "Total params: 3,118,537\n",
      "Trainable params: 3,118,537\n",
      "Non-trainable params: 0\n",
      "_________________________________________________________________\n",
      "Epoch 1/25\n",
      "250/250 [==============================] - 7s 24ms/step - loss: 1.4891 - accuracy: 0.3366 - val_loss: 1.2922 - val_accuracy: 0.4410\n",
      "Epoch 2/25\n",
      "250/250 [==============================] - 6s 23ms/step - loss: 1.1674 - accuracy: 0.4839 - val_loss: 0.9655 - val_accuracy: 0.5690\n",
      "Epoch 3/25\n",
      "250/250 [==============================] - 6s 23ms/step - loss: 0.9403 - accuracy: 0.5830 - val_loss: 0.7174 - val_accuracy: 0.6790\n",
      "Epoch 4/25\n",
      "250/250 [==============================] - 6s 23ms/step - loss: 0.7555 - accuracy: 0.6840 - val_loss: 0.5511 - val_accuracy: 0.7590\n",
      "Epoch 5/25\n",
      "250/250 [==============================] - 6s 23ms/step - loss: 0.6063 - accuracy: 0.7614 - val_loss: 0.4149 - val_accuracy: 0.8490\n",
      "Epoch 6/25\n",
      "250/250 [==============================] - 6s 23ms/step - loss: 0.5067 - accuracy: 0.8245 - val_loss: 0.3239 - val_accuracy: 0.9075\n",
      "Epoch 7/25\n",
      "250/250 [==============================] - 6s 23ms/step - loss: 0.3926 - accuracy: 0.8770 - val_loss: 0.2193 - val_accuracy: 0.9495\n",
      "Epoch 8/25\n",
      "250/250 [==============================] - 6s 23ms/step - loss: 0.3078 - accuracy: 0.9156 - val_loss: 0.1659 - val_accuracy: 0.9650\n",
      "Epoch 9/25\n",
      "250/250 [==============================] - 6s 23ms/step - loss: 0.2737 - accuracy: 0.9293 - val_loss: 0.1603 - val_accuracy: 0.9630\n",
      "Epoch 10/25\n",
      " 21/250 [=>............................] - ETA: 5s - loss: 0.1923 - accuracy: 0.9494"
     ]
    }
   ],
   "source": [
    "inp = keras.layers.Input(shape = (50, 50, 1));\n",
    "out = keras.layers.RandomFlip(\"horizontal_and_vertical\")(inp);\n",
    "#out = keras.layers.RandomRotation(0.2)(out);\n",
    "#out = keras.layers.RandomZoom(0.2, 0.2)(out);\n",
    "out = keras.layers.Conv2D(8, kernel_size=(3, 3), activation='relu', input_shape=[50, 50])(out);\n",
    "out = keras.layers.MaxPooling2D(pool_size=(2, 2))(out);\n",
    "out = keras.layers.Conv2D(8, kernel_size=(3, 3), activation='relu')(out);\n",
    "out = keras.layers.MaxPooling2D(pool_size=(2, 2))(out);\n",
    "out = keras.layers.Conv2D(16, kernel_size=(3, 3), activation='relu')(out);\n",
    "out = keras.layers.MaxPooling2D(pool_size=(2, 2))(out);\n",
    "out = keras.layers.Flatten()(out);\n",
    "out = keras.layers.Dense(2000, activation = 'relu')(out);\n",
    "out = keras.layers.Dropout(0.6)(out);\n",
    "out = keras.layers.Dense(1000, activation = 'relu')(out);\n",
    "out = keras.layers.Dropout(0.6)(out);\n",
    "out = keras.layers.Dense(500, activation = 'relu')(out);\n",
    "out = keras.layers.Dropout(0.6)(out);\n",
    "out = keras.layers.Dense(200, activation = 'relu')(out);\n",
    "out = keras.layers.Dropout(0.6)(out);\n",
    "out = keras.layers.Dense(5, activation = 'softmax')(out);\n",
    "\n",
    "model = keras.models.Model(inputs = inp, outputs = out);\n",
    "model.compile(optimizer = keras.optimizers.Adam(learning_rate = 3e-4), loss = 'sparse_categorical_crossentropy', metrics = ['accuracy']);\n",
    "model.summary();\n",
    "\n",
    "hist = model.fit(X, y, validation_split = 0.2, epochs = 25)"
   ]
  },
  {
   "cell_type": "code",
   "execution_count": 19,
   "id": "e8b0683f",
   "metadata": {
    "id": "3d888d83"
   },
   "outputs": [
    {
     "data": {
      "image/png": "[encoded data removed]",
      "text/plain": [
       "<Figure size 640x480 with 1 Axes>"
      ]
     },
     "metadata": {},
     "output_type": "display_data"
    }
   ],
   "source": [
    "pd.DataFrame(hist.history).plot()\n",
    "model.save('model.h5')"
   ]
  }
 ],
 "metadata": {
  "accelerator": "GPU",
  "colab": {
   "collapsed_sections": [],
   "name": "",
   "version": ""
  },
  "gpuClass": "standard",
  "kernelspec": {
   "display_name": "Python [conda env:py3.9]",
   "language": "python",
   "name": "conda-env-py3.9-py"
  },
  "language_info": {
   "codemirror_mode": {
    "name": "ipython",
    "version": 3
   },
   "file_extension": ".py",
   "mimetype": "text/x-python",
   "name": "python",
   "nbconvert_exporter": "python",
   "pygments_lexer": "ipython3",
   "version": "3.9.13"
  }
 },
 "nbformat": 4,
 "nbformat_minor": 5
}
