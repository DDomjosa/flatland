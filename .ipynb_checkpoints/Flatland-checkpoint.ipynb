{
 "cells": [
  {
   "cell_type": "code",
   "execution_count": null,
   "id": "a98047ad",
   "metadata": {
    "executionInfo": {
     "elapsed": 33,
     "status": "ok",
     "timestamp": 1667736365400,
     "user": {
      "displayName": "DDomjosa",
      "userId": "08635069532973972876"
     },
     "user_tz": -120
    },
    "id": "10f6d9b8"
   },
   "outputs": [],
   "source": [
    "import tensorflow as tf\n",
    "from tensorflow import keras\n",
    "from keras import layers\n",
    "from collections import Counter\n",
    "import matplotlib.pyplot as plt\n",
    "import pandas as pd\n",
    "import numpy as np\n",
    "from tensorflow.keras.preprocessing.image import ImageDataGenerator\n",
    "\n",
    "tf.config.list_physical_devices()"
   ]
  },
  {
   "cell_type": "code",
   "execution_count": null,
   "id": "75ad9324",
   "metadata": {
    "executionInfo": {
     "elapsed": 374,
     "status": "ok",
     "timestamp": 1667736374562,
     "user": {
      "displayName": "DDomjosa",
      "userId": "08635069532973972876"
     },
     "user_tz": -120
    },
    "id": "3e783b3c"
   },
   "outputs": [],
   "source": [
    "data = np.load('flatland_train.npz')\n",
    "X = data['X']\n",
    "y = data['y']\n",
    "y[y != 0] -= 2    # Correct labels so that triangle is mapped to class 1\n",
    "X = X.reshape(X.shape[0], 50, 50, 1) / 255"
   ]
  },
  {
   "cell_type": "code",
   "execution_count": null,
   "id": "5ae8cab8",
   "metadata": {
    "scrolled": true
   },
   "outputs": [],
   "source": [
    "data_generator = ImageDataGenerator()\n",
    "for X_batch, y_batch in data_generator.flow(X, y, batch_size = 16, shuffle = False):\n",
    "    fig, ax = plt.subplots(4, 4, figsize=(8, 8))\n",
    "    for i in range(4):\n",
    "        for j in range(4):\n",
    "            ax[i][j].axis('off')\n",
    "            ax[i][j].imshow(X_batch[i*4 + j].reshape(50, 50), cmap = 'gray')\n",
    "    plt.show()\n",
    "    break"
   ]
  },
  {
   "cell_type": "code",
   "execution_count": null,
   "id": "7476f969",
   "metadata": {},
   "outputs": [],
   "source": [
    "data_generator = ImageDataGenerator(\n",
    "    rotation_range = 90,\n",
    "    zoom_range = 0.2,\n",
    "    shear_range = 45,\n",
    "    horizontal_flip = 0.5,\n",
    "    vertical_flip = 0.5,\n",
    "    height_shift_range = 0.2,\n",
    "    width_shift_range = 0.2,\n",
    "    channel_shift_range = 0.9,\n",
    "    validation_split = 0.2\n",
    ")\n",
    "data_generator.fit(X)\n",
    "for X_batch, y_batch in data_generator.flow(X, y, batch_size = 16, shuffle = False):\n",
    "    fig, ax = plt.subplots(4, 4, figsize=(8, 8))\n",
    "    for i in range(4):\n",
    "        for j in range(4):\n",
    "            ax[i][j].axis('off')\n",
    "            ax[i][j].imshow(X_batch[i*4 + j].reshape(50, 50), cmap = 'gray')\n",
    "    plt.show()\n",
    "    break"
   ]
  },
  {
   "cell_type": "code",
   "execution_count": null,
   "id": "22eacc52",
   "metadata": {},
   "outputs": [],
   "source": [
    "X.shape"
   ]
  },
  {
   "cell_type": "code",
   "execution_count": null,
   "id": "0324488d",
   "metadata": {
    "colab": {
     "base_uri": "https://localhost:8080/"
    },
    "executionInfo": {
     "elapsed": 14,
     "status": "ok",
     "timestamp": 1667736374563,
     "user": {
      "displayName": "DDomjosa",
      "userId": "08635069532973972876"
     },
     "user_tz": -120
    },
    "id": "9a8117e0",
    "outputId": "60207a8f-c6ad-4630-dc88-d574189ec8d0",
    "scrolled": true
   },
   "outputs": [],
   "source": [
    "Counter(y)"
   ]
  },
  {
   "cell_type": "code",
   "execution_count": null,
   "id": "0133a22e",
   "metadata": {
    "executionInfo": {
     "elapsed": 346,
     "status": "ok",
     "timestamp": 1667736375433,
     "user": {
      "displayName": "DDomjosa",
      "userId": "08635069532973972876"
     },
     "user_tz": -120
    },
    "id": "17798147"
   },
   "outputs": [],
   "source": [
    "#X_train_aug = np.concatenate([X_train, X_train[..., ::-1]])\n",
    "#y_train_aug = np.concatenate([y_train, y_train])"
   ]
  },
  {
   "cell_type": "code",
   "execution_count": null,
   "id": "d1c521dd",
   "metadata": {
    "scrolled": false
   },
   "outputs": [],
   "source": [
    "#TOP MODEL 98 ON ADVANCED\n",
    "\n",
    "inp = keras.layers.Input(shape = (50, 50, 1));\n",
    "#out = keras.layers.RandomFlip(\"horizontal_and_vertical\")(inp);\n",
    "#out = keras.layers.RandomRotation(0.2)(out);\n",
    "#out = keras.layers.RandomZoom(0.2, 0.2)(out);\n",
    "out = keras.layers.Conv2D(32, kernel_size=(3, 3), activation='relu', input_shape=[50, 50, 1])(inp);\n",
    "out = keras.layers.MaxPooling2D(pool_size=(2, 2))(out);\n",
    "out = keras.layers.Conv2D(64, kernel_size=(3, 3), activation='relu')(out);\n",
    "out = keras.layers.MaxPooling2D(pool_size=(2, 2))(out);\n",
    "out = keras.layers.Conv2D(128, kernel_size=(3, 3), activation='relu')(out);\n",
    "out = keras.layers.MaxPooling2D(pool_size=(2, 2))(out);\n",
    "out = keras.layers.Conv2D(512, kernel_size=(3, 3), activation='relu')(out);\n",
    "out = keras.layers.MaxPooling2D(pool_size=(2, 2))(out);\n",
    "out = keras.layers.Flatten()(out);\n",
    "out = keras.layers.Dropout(0.4)(out);\n",
    "out = keras.layers.Dense(512, activation = 'relu')(out);\n",
    "out = keras.layers.Dropout(0.6)(out);\n",
    "out = keras.layers.Dense(512, activation = 'relu')(out);\n",
    "out = keras.layers.Dropout(0.6)(out);\n",
    "out = keras.layers.Dense(512, activation = 'relu')(out);\n",
    "out = keras.layers.Dropout(0.6)(out);\n",
    "out = keras.layers.Dense(128, activation = 'relu')(out);\n",
    "out = keras.layers.Dropout(0.6)(out);\n",
    "out = keras.layers.Dense(5, activation = 'softmax')(out);\n",
    "\n",
    "\n",
    "checkpoint = keras.callbacks.ModelCheckpoint(filepath =  'model.h5', monitor = 'val_loss', save_best_only = True, mode = 'min');\n",
    "\n",
    "model = keras.models.Model(inputs = inp, outputs = out);\n",
    "model.compile(optimizer = keras.optimizers.Adam(learning_rate = 3e-4), loss = 'sparse_categorical_crossentropy', metrics = ['accuracy']);\n",
    "model.summary();\n",
    "\n",
    "hist = model.fit(data_generator.flow(X, y, batch_size = 32, subset = 'training'),\n",
    "                 validation_data = data_generator.flow(X, y, batch_size = 8, subset = 'validation'),\n",
    "                 steps_per_epoch = len(X)*0.8/32, epochs = 128, callbacks = [checkpoint]);\n",
    "model = tf.keras.models.load_model('model.h5');"
   ]
  },
  {
   "cell_type": "code",
   "execution_count": null,
   "id": "e8b0683f",
   "metadata": {
    "id": "3d888d83"
   },
   "outputs": [],
   "source": [
    "pd.DataFrame(hist.history).plot()\n",
    "model.save('model.h5')"
   ]
  },
  {
   "cell_type": "code",
   "execution_count": null,
   "id": "fcd5142d",
   "metadata": {
    "colab": {
     "background_save": true,
     "base_uri": "https://localhost:8080/"
    },
    "id": "d3e25e03",
    "scrolled": false
   },
   "outputs": [],
   "source": [
    "inp = keras.layers.Input(shape = (50, 50, 1));\n",
    "#out = keras.layers.RandomFlip(\"horizontal_and_vertical\")(inp);\n",
    "#out = keras.layers.RandomRotation(0.2)(out);\n",
    "#out = keras.layers.RandomZoom(0.2, 0.2)(out);\n",
    "out = keras.layers.Conv2D(128, kernel_size=(3, 3), activation='relu', input_shape=[50, 50, 1])(inp);\n",
    "out = keras.layers.MaxPooling2D(pool_size=(2, 2))(out);\n",
    "out = keras.layers.Conv2D(256, kernel_size=(3, 3), activation='relu')(out);\n",
    "out = keras.layers.MaxPooling2D(pool_size=(2, 2))(out);\n",
    "out = keras.layers.Conv2D(512, kernel_size=(3, 3), activation='relu')(out);\n",
    "out = keras.layers.MaxPooling2D(pool_size=(2, 2))(out);\n",
    "out = keras.layers.Conv2D(1024, kernel_size=(3, 3), activation='relu')(out);\n",
    "out = keras.layers.MaxPooling2D(pool_size=(2, 2))(out);\n",
    "out = keras.layers.Flatten()(out);\n",
    "out = keras.layers.Dropout(0.4)(out);\n",
    "out = keras.layers.Dense(1024, activation = 'relu')(out);\n",
    "out = keras.layers.Dropout(0.5)(out);\n",
    "out = keras.layers.Dense(512, activation = 'relu')(out);\n",
    "out = keras.layers.Dropout(0.6)(out);\n",
    "out = keras.layers.Dense(512, activation = 'relu')(out);\n",
    "out = keras.layers.Dropout(0.7)(out);\n",
    "out = keras.layers.Dense(128, activation = 'relu')(out);\n",
    "out = keras.layers.Dropout(0.8)(out);\n",
    "out = keras.layers.Dense(5, activation = 'softmax')(out);\n",
    "\n",
    "\n",
    "checkpoint = keras.callbacks.ModelCheckpoint(filepath =  'model.h5', monitor = 'val_loss', save_best_only = True, mode = 'min');\n",
    "\n",
    "model = keras.models.Model(inputs = inp, outputs = out);\n",
    "model.compile(optimizer = keras.optimizers.Adam(learning_rate = 3e-4), loss = 'sparse_categorical_crossentropy', metrics = ['accuracy']);\n",
    "model.summary();\n",
    "\n",
    "hist = model.fit(data_generator.flow(X, y, batch_size = 32, subset = 'training'),\n",
    "                 validation_data = data_generator.flow(X, y, batch_size = 8, subset = 'validation'),\n",
    "                 steps_per_epoch = len(X)*0.8/32, epochs = 50, callbacks = [checkpoint]);\n",
    "model = tf.keras.models.load_model('model.h5');"
   ]
  },
  {
   "cell_type": "code",
   "execution_count": null,
   "id": "e982db5b",
   "metadata": {
    "scrolled": false
   },
   "outputs": [],
   "source": [
    "model = tf.keras.models.load_model('model.h5');\n",
    "hist = model.fit(data_generator.flow(X, y, batch_size = 32, subset = 'training'),\n",
    "                 validation_data = data_generator.flow(X, y, batch_size = 8, subset = 'validation'),\n",
    "                 steps_per_epoch = len(X)*0.8/32, epochs = 200, callbacks = [checkpoint]);\n",
    "model = tf.keras.models.load_model('model.h5');"
   ]
  },
  {
   "cell_type": "code",
   "execution_count": null,
   "id": "73a151da",
   "metadata": {},
   "outputs": [],
   "source": []
  }
 ],
 "metadata": {
  "accelerator": "GPU",
  "colab": {
   "collapsed_sections": [],
   "name": "",
   "version": ""
  },
  "gpuClass": "standard",
  "kernelspec": {
   "display_name": "Python 3 (ipykernel)",
   "language": "python",
   "name": "python3"
  },
  "language_info": {
   "codemirror_mode": {
    "name": "ipython",
    "version": 3
   },
   "file_extension": ".py",
   "mimetype": "text/x-python",
   "name": "python",
   "nbconvert_exporter": "python",
   "pygments_lexer": "ipython3",
   "version": "3.9.13"
  }
 },
 "nbformat": 4,
 "nbformat_minor": 5
}
