{
 "cells": [
  {
   "cell_type": "code",
   "execution_count": null,
   "id": "a98047ad",
   "metadata": {
    "executionInfo": {
     "elapsed": 33,
     "status": "ok",
     "timestamp": 1667736365400,
     "user": {
      "displayName": "DDomjosa",
      "userId": "08635069532973972876"
     },
     "user_tz": -120
    },
    "id": "10f6d9b8"
   },
   "outputs": [],
   "source": [
    "import tensorflow as tf\n",
    "from tensorflow import keras\n",
    "from keras import layers\n",
    "from collections import Counter\n",
    "import matplotlib.pyplot as plt\n",
    "import pandas as pd\n",
    "import numpy as np\n",
    "from tensorflow.keras.preprocessing.image import ImageDataGenerator\n",
    "import asyncio\n",
    "import urllib.request\n",
    "\n",
    "#Check if GPU is fried yet\n",
    "tf.config.list_physical_devices()"
   ]
  },
  {
   "cell_type": "code",
   "execution_count": null,
   "id": "75ad9324",
   "metadata": {
    "executionInfo": {
     "elapsed": 374,
     "status": "ok",
     "timestamp": 1667736374562,
     "user": {
      "displayName": "DDomjosa",
      "userId": "08635069532973972876"
     },
     "user_tz": -120
    },
    "id": "3e783b3c"
   },
   "outputs": [],
   "source": [
    "data = np.load('flatland_train.npz')\n",
    "X = data['X']\n",
    "y = data['y']\n",
    "y[y != 0] -= 2    # Correct labels so that triangle is mapped to class 1\n",
    "X = X.reshape(X.shape[0], 50, 50, 1) / 255"
   ]
  },
  {
   "cell_type": "code",
   "execution_count": null,
   "id": "4d98506c",
   "metadata": {},
   "outputs": [],
   "source": [
    "X.shape"
   ]
  },
  {
   "cell_type": "code",
   "execution_count": null,
   "id": "08505705",
   "metadata": {},
   "outputs": [],
   "source": [
    "Counter(y)"
   ]
  },
  {
   "cell_type": "code",
   "execution_count": null,
   "id": "5ae8cab8",
   "metadata": {
    "scrolled": false
   },
   "outputs": [],
   "source": [
    "#Original data visualisation\n",
    "\n",
    "data_generator = ImageDataGenerator()\n",
    "for X_batch, y_batch in data_generator.flow(X, y, batch_size = 16, shuffle = False):\n",
    "    fig, ax = plt.subplots(4, 4, figsize=(8, 8))\n",
    "    for i in range(4):\n",
    "        for j in range(4):\n",
    "            ax[i][j].axis('off')\n",
    "            ax[i][j].imshow(X_batch[i*4 + j].reshape(50, 50), cmap = 'gray')\n",
    "    plt.show()\n",
    "    break"
   ]
  },
  {
   "cell_type": "code",
   "execution_count": null,
   "id": "7476f969",
   "metadata": {
    "scrolled": false
   },
   "outputs": [],
   "source": [
    "#Data augmentation visualisation\n",
    "\n",
    "data_generator = ImageDataGenerator(\n",
    "    rotation_range = 90,\n",
    "    zoom_range = 0.2,\n",
    "    shear_range = 45,\n",
    "    horizontal_flip = 0.5,\n",
    "    vertical_flip = 0.5,\n",
    "    height_shift_range = 0.2,\n",
    "    width_shift_range = 0.2,\n",
    "    channel_shift_range = 0.9,\n",
    "    validation_split = 0.2\n",
    ")\n",
    "data_generator.fit(X)\n",
    "for X_batch, y_batch in data_generator.flow(X, y, batch_size = 16, shuffle = False):\n",
    "    fig, ax = plt.subplots(4, 4, figsize=(8, 8))\n",
    "    for i in range(4):\n",
    "        for j in range(4):\n",
    "            ax[i][j].axis('off')\n",
    "            ax[i][j].imshow(X_batch[i*4 + j].reshape(50, 50), cmap = 'gray')\n",
    "    plt.show()\n",
    "    break"
   ]
  },
  {
   "cell_type": "code",
   "execution_count": null,
   "id": "8c6fffc6",
   "metadata": {},
   "outputs": [],
   "source": [
    "#Train for the worst\n",
    "\n",
    "data_generator = ImageDataGenerator(\n",
    "    rotation_range = 180,\n",
    "    zoom_range = 0.5,\n",
    "    shear_range = 70,\n",
    "    horizontal_flip = 0.5,\n",
    "    vertical_flip = 0.5,\n",
    "    height_shift_range = 0.25,\n",
    "    width_shift_range = 0.25,\n",
    "    validation_split = 0.2\n",
    ")\n",
    "data_generator.fit(X)\n",
    "for X_batch, y_batch in data_generator.flow(X, y, batch_size = 16, shuffle = False):\n",
    "    fig, ax = plt.subplots(4, 4, figsize=(8, 8))\n",
    "    for i in range(4):\n",
    "        for j in range(4):\n",
    "            ax[i][j].axis('off')\n",
    "            ax[i][j].imshow(X_batch[i*4 + j].reshape(50, 50), cmap = 'gray')\n",
    "    plt.show()\n",
    "    break"
   ]
  },
  {
   "cell_type": "code",
   "execution_count": null,
   "id": "d1c521dd",
   "metadata": {
    "scrolled": true
   },
   "outputs": [],
   "source": [
    "#99.48% on advanced model\n",
    "\n",
    "inp = keras.layers.Input(shape = (50, 50, 1));\n",
    "out = keras.layers.Conv2D(32, kernel_size=(3, 3), activation='relu', input_shape=[50, 50, 1])(inp);\n",
    "out = keras.layers.MaxPooling2D(pool_size=(2, 2))(out);\n",
    "out = keras.layers.Conv2D(64, kernel_size=(3, 3), activation='relu')(out);\n",
    "out = keras.layers.MaxPooling2D(pool_size=(2, 2))(out);\n",
    "out = keras.layers.Conv2D(128, kernel_size=(3, 3), activation='relu')(out);\n",
    "out = keras.layers.MaxPooling2D(pool_size=(2, 2))(out);\n",
    "out = keras.layers.Conv2D(512, kernel_size=(3, 3), activation='relu')(out);\n",
    "out = keras.layers.MaxPooling2D(pool_size=(2, 2))(out);\n",
    "out = keras.layers.Flatten()(out);\n",
    "out = keras.layers.Dropout(0.4)(out);\n",
    "out = keras.layers.Dense(512, activation = 'relu')(out);\n",
    "out = keras.layers.Dropout(0.6)(out);\n",
    "out = keras.layers.Dense(512, activation = 'relu')(out);\n",
    "out = keras.layers.Dropout(0.6)(out);\n",
    "out = keras.layers.Dense(512, activation = 'relu')(out);\n",
    "out = keras.layers.Dropout(0.6)(out);\n",
    "out = keras.layers.Dense(128, activation = 'relu')(out);\n",
    "out = keras.layers.Dropout(0.6)(out);\n",
    "out = keras.layers.Dense(5, activation = 'softmax')(out);\n",
    "\n",
    "\n",
    "checkpoint = keras.callbacks.ModelCheckpoint(filepath = '99.48_model_17.6MB.h5', monitor = 'val_loss', save_best_only = True, mode = 'min');\n",
    "\n",
    "model = keras.models.Model(inputs = inp, outputs = out);\n",
    "model.compile(optimizer = keras.optimizers.Adam(learning_rate = 3e-4), loss = 'sparse_categorical_crossentropy', metrics = ['accuracy']);\n",
    "model.summary();\n",
    "\n",
    "hist = model.fit(data_generator.flow(X, y, batch_size = 100, subset = 'training'),\n",
    "                 validation_data = data_generator.flow(X, y, batch_size = 10, subset = 'validation'),\n",
    "                 steps_per_epoch = len(X)*0.8/100, epochs = 200, callbacks = [checkpoint]);"
   ]
  },
  {
   "cell_type": "code",
   "execution_count": null,
   "id": "e8b0683f",
   "metadata": {
    "id": "3d888d83",
    "scrolled": false
   },
   "outputs": [],
   "source": [
    "#Funny squiggles\n",
    "\n",
    "pd.DataFrame(hist.history).plot()"
   ]
  },
  {
   "cell_type": "code",
   "execution_count": null,
   "id": "227febce",
   "metadata": {
    "scrolled": true
   },
   "outputs": [],
   "source": [
    "#Fail\n",
    "\n",
    "inp = keras.layers.Input(shape = (50, 50, 1));\n",
    "out = keras.layers.Conv2D(64, kernel_size=(3, 3), activation='relu', padding = 'same', input_shape=[50, 50, 1])(inp);\n",
    "out = keras.layers.MaxPooling2D(pool_size=(2, 2))(out);\n",
    "out = keras.layers.Conv2D(64, kernel_size=(3, 3), activation='relu', padding = 'same')(out);\n",
    "out = keras.layers.MaxPooling2D(pool_size=(2, 2))(out);\n",
    "out = keras.layers.Conv2D(128, kernel_size=(3, 3), activation='relu', padding = 'same')(out);\n",
    "out = keras.layers.MaxPooling2D(pool_size=(2, 2))(out);\n",
    "out = keras.layers.Conv2D(128, kernel_size=(3, 3), activation='relu', padding = 'same')(out);\n",
    "out = keras.layers.MaxPooling2D(pool_size=(2, 2))(out);\n",
    "out = keras.layers.Flatten()(out);\n",
    "out = keras.layers.Dropout(0.4)(out);\n",
    "out = keras.layers.Dense(1024, activation = 'relu')(out);\n",
    "out = keras.layers.Dropout(0.6)(out);\n",
    "out = keras.layers.Dense(1024, activation = 'relu')(out);\n",
    "out = keras.layers.Dropout(0.6)(out);\n",
    "out = keras.layers.Dense(1024, activation = 'relu')(out);\n",
    "out = keras.layers.Dropout(0.6)(out);\n",
    "out = keras.layers.Dense(1024, activation = 'relu')(out);\n",
    "out = keras.layers.Dropout(0.6)(out);\n",
    "out = keras.layers.Dense(1024, activation = 'relu')(out);\n",
    "out = keras.layers.Dropout(0.6)(out);\n",
    "out = keras.layers.Dense(1024, activation = 'relu')(out);\n",
    "out = keras.layers.Dropout(0.6)(out);\n",
    "out = keras.layers.Dense(1024, activation = 'relu')(out);\n",
    "out = keras.layers.Dropout(0.6)(out);\n",
    "out = keras.layers.Dense(512, activation = 'relu')(out);\n",
    "out = keras.layers.Dropout(0.6)(out);\n",
    "out = keras.layers.Dense(5, activation = 'softmax')(out);\n",
    "\n",
    "\n",
    "checkpoint = keras.callbacks.ModelCheckpoint(filepath = 'failed_model.h5', monitor = 'val_loss', save_best_only = True, mode = 'min');\n",
    "\n",
    "model = keras.models.Model(inputs = inp, outputs = out);\n",
    "model.compile(optimizer = keras.optimizers.Adam(learning_rate = 3e-4), loss = 'sparse_categorical_crossentropy', metrics = ['accuracy']);\n",
    "model.summary();\n",
    "\n",
    "hist = model.fit(data_generator.flow(X, y, batch_size = 100, subset = 'training'),\n",
    "                 validation_data = data_generator.flow(X, y, batch_size = 10, subset = 'validation'),\n",
    "                 steps_per_epoch = len(X)*0.8/100, epochs = 200, callbacks = [checkpoint]);"
   ]
  },
  {
   "cell_type": "code",
   "execution_count": null,
   "id": "19ab3c1a",
   "metadata": {},
   "outputs": [],
   "source": [
    "#More funny squiggles\n",
    "\n",
    "pd.DataFrame(hist.history).plot()"
   ]
  },
  {
   "cell_type": "code",
   "execution_count": null,
   "id": "3925e988",
   "metadata": {
    "scrolled": true
   },
   "outputs": [],
   "source": [
    "#Model that got 100% on advanced, 23MB\n",
    "\n",
    "inp = keras.layers.Input(shape = (50, 50, 1));\n",
    "out = keras.layers.Conv2D(32, kernel_size=(5, 5), padding = 'same', input_shape=[50, 50, 1])(inp);\n",
    "out = keras.layers.Activation(\"relu\")(out);\n",
    "out = keras.layers.MaxPooling2D(pool_size=(2, 2))(out);\n",
    "out = keras.layers.Conv2D(64, kernel_size=(4, 4), padding = 'same')(out);\n",
    "out = keras.layers.Activation(\"relu\")(out);\n",
    "out = keras.layers.MaxPooling2D(pool_size=(2, 2))(out);\n",
    "for i in range(3):\n",
    "    out = keras.layers.Conv2D(128, kernel_size=(3, 3), padding = 'same')(out);\n",
    "    out = keras.layers.Activation(\"relu\")(out);\n",
    "out = keras.layers.MaxPooling2D(pool_size=(2, 2))(out);\n",
    "for i in range(3):\n",
    "    out = keras.layers.Conv2D(128, kernel_size=(3, 3), padding = 'same')(out);\n",
    "    out = keras.layers.Activation(\"relu\")(out);\n",
    "out = keras.layers.MaxPooling2D(pool_size=(2, 2))(out);\n",
    "out = keras.layers.Flatten()(out);\n",
    "out = keras.layers.Dropout(0.3)(out);\n",
    "out = keras.layers.Dense(1000, activation = 'relu')(out);\n",
    "out = keras.layers.Dropout(0.3)(out);\n",
    "out = keras.layers.Dense(5, activation = 'softmax')(out);\n",
    "\n",
    "\n",
    "checkpoint = keras.callbacks.ModelCheckpoint(filepath = '100_model_23MB.h5', monitor = 'val_loss', save_best_only = True, mode = 'min');\n",
    "\n",
    "model = keras.models.Model(inputs = inp, outputs = out);\n",
    "model.compile(optimizer = keras.optimizers.Adam(learning_rate = 3e-4), loss = 'sparse_categorical_crossentropy', metrics = ['accuracy']);\n",
    "model.summary();\n",
    "\n",
    "hist = model.fit(data_generator.flow(X, y, batch_size = 100, subset = 'training'),\n",
    "                 validation_data = data_generator.flow(X, y, batch_size = 10, subset = 'validation'),\n",
    "                 steps_per_epoch = len(X)*0.8/100, epochs = 200, callbacks = [checkpoint]);"
   ]
  },
  {
   "cell_type": "code",
   "execution_count": null,
   "id": "cc82d020",
   "metadata": {},
   "outputs": [],
   "source": [
    "#Even more funny squiggles\n",
    "\n",
    "pd.DataFrame(hist.history).plot()"
   ]
  },
  {
   "cell_type": "code",
   "execution_count": null,
   "id": "d4927cae",
   "metadata": {
    "scrolled": false
   },
   "outputs": [],
   "source": [
    "#Load the winner, continue training and save all epochs for... reasons\n",
    "\n",
    "model = tf.keras.models.load_model('100_model_23MB.h5');\n",
    "checkpoint = keras.callbacks.ModelCheckpoint(filepath = '23MB_epochs\\{epoch:d}model.h5', monitor = 'val_loss', save_best_only = False, mode = 'min');\n",
    "hist = model.fit(data_generator.flow(X, y, batch_size = 100, subset = 'training'),\n",
    "                 validation_data = data_generator.flow(X, y, batch_size = 10, subset = 'validation'),\n",
    "                 steps_per_epoch = len(X)*0.8/100, epochs = 20, callbacks = [checkpoint]);"
   ]
  },
  {
   "cell_type": "code",
   "execution_count": null,
   "id": "d32464b0",
   "metadata": {},
   "outputs": [],
   "source": [
    "#Here's a little lesson in trickery\n",
    "\n",
    "def background(f):\n",
    "    def wrapped(*args, **kwargs):\n",
    "        return asyncio.get_event_loop().run_in_executor(None, f, *args, **kwargs)\n",
    "    return wrapped\n",
    "\n",
    "@background\n",
    "def brute_force(x):\n",
    "    url = 'https://us-central1-aiprimer.cloudfunctions.net/flatland?model_link=https://github.com/DDomjosa/flatland/blob/main/23MB_epochs/'+str(x)+'model.h5?raw=true';\n",
    "    uf = urllib.request.urlopen(url)\n",
    "    html = uf.read()\n",
    "    print('Epoch = ' + str(x) + ':\\n\\n' + html.decode(\"utf-8\") + '\\n')\n",
    "    \n",
    "for i in range(1, 21):\n",
    "    brute_force(i)"
   ]
  },
  {
   "cell_type": "code",
   "execution_count": null,
   "id": "c6ab9420",
   "metadata": {
    "scrolled": true
   },
   "outputs": [],
   "source": [
    "#100% on advanced, 673KB\n",
    "#Needs A LOT of training to reach 100%\n",
    "\n",
    "inp = keras.layers.Input(shape = (50, 50, 1));\n",
    "out = keras.layers.Conv2D(16, kernel_size=(5, 5), activation = 'relu', padding = 'same', input_shape=[50, 50, 1])(inp);\n",
    "out = keras.layers.Conv2D(16, kernel_size=(5, 5), activation = 'relu', padding = 'same')(out);\n",
    "out = keras.layers.Conv2D(16, kernel_size=(5, 5), activation = 'relu', padding = 'same')(out);\n",
    "out = keras.layers.MaxPooling2D(pool_size=(2, 2))(out);\n",
    "out = keras.layers.Conv2D(16, kernel_size=(3, 3), activation = 'relu', padding = 'same')(out);\n",
    "out = keras.layers.Conv2D(16, kernel_size=(3, 3), activation = 'relu', padding = 'same')(out);\n",
    "out = keras.layers.Conv2D(16, kernel_size=(3, 3), activation = 'relu', padding = 'same')(out);\n",
    "out = keras.layers.MaxPooling2D(pool_size=(2, 2))(out);\n",
    "out = keras.layers.Conv2D(32, kernel_size=(3, 3), activation = 'relu', padding = 'same')(out);\n",
    "out = keras.layers.Conv2D(32, kernel_size=(3, 3), activation = 'relu', padding = 'same')(out);\n",
    "out = keras.layers.Conv2D(32, kernel_size=(3, 3), activation = 'relu', padding = 'same')(out);\n",
    "out = keras.layers.MaxPooling2D(pool_size=(2, 2))(out);\n",
    "out = keras.layers.Flatten()(out);\n",
    "out = keras.layers.Dropout(0.3)(out);\n",
    "out = keras.layers.Dense(5, activation = 'softmax')(out);\n",
    "\n",
    "\n",
    "checkpoint = keras.callbacks.ModelCheckpoint(filepath = '100_model_673KB.h5', monitor = 'val_loss', save_best_only = True, mode = 'min');\n",
    "\n",
    "model = keras.models.Model(inputs = inp, outputs = out);\n",
    "model.compile(optimizer = keras.optimizers.Adam(learning_rate = 3e-4), loss = 'sparse_categorical_crossentropy', metrics = ['accuracy']);\n",
    "model.summary();\n",
    "\n",
    "hist = model.fit(data_generator.flow(X, y, batch_size = 100, subset = 'training'),\n",
    "                 validation_data = data_generator.flow(X, y, batch_size = 10, subset = 'validation'),\n",
    "                 steps_per_epoch = len(X)*0.8/100, epochs = 2500, callbacks = [checkpoint]);"
   ]
  },
  {
   "cell_type": "code",
   "execution_count": null,
   "id": "d95b29bc",
   "metadata": {
    "scrolled": true
   },
   "outputs": [],
   "source": [
    "model = tf.keras.models.load_model('100_model_673KB.h5');\n",
    "checkpoint = keras.callbacks.ModelCheckpoint(filepath = '673KB_epochs\\{epoch:d}model.h5', monitor = 'val_loss', save_best_only = False, mode = 'min');\n",
    "hist = model.fit(data_generator.flow(X, y, batch_size = 100, subset = 'training'),\n",
    "                 validation_data = data_generator.flow(X, y, batch_size = 10, subset = 'validation'),\n",
    "                 steps_per_epoch = len(X)*0.8/100, epochs = 20, callbacks = [checkpoint]);"
   ]
  },
  {
   "cell_type": "code",
   "execution_count": null,
   "id": "46393924",
   "metadata": {},
   "outputs": [],
   "source": [
    "def background(f):\n",
    "    def wrapped(*args, **kwargs):\n",
    "        return asyncio.get_event_loop().run_in_executor(None, f, *args, **kwargs)\n",
    "    return wrapped\n",
    "\n",
    "@background\n",
    "def brute_force(x):\n",
    "    url = 'https://us-central1-aiprimer.cloudfunctions.net/flatland?model_link=https://github.com/DDomjosa/flatland/blob/main/673KB_epochs/'+str(x)+'model.h5?raw=true';\n",
    "    uf = urllib.request.urlopen(url)\n",
    "    html = uf.read()\n",
    "    print('Epoch = ' + str(x) + ':\\n\\n' + html.decode(\"utf-8\") + '\\n')\n",
    "    \n",
    "for i in range(1, 21):\n",
    "    brute_force(i)"
   ]
  }
 ],
 "metadata": {
  "accelerator": "GPU",
  "colab": {
   "collapsed_sections": [],
   "name": "",
   "version": ""
  },
  "gpuClass": "standard",
  "kernelspec": {
   "display_name": "Python [conda env:py3.9]",
   "language": "python",
   "name": "conda-env-py3.9-py"
  },
  "language_info": {
   "codemirror_mode": {
    "name": "ipython",
    "version": 3
   },
   "file_extension": ".py",
   "mimetype": "text/x-python",
   "name": "python",
   "nbconvert_exporter": "python",
   "pygments_lexer": "ipython3",
   "version": "3.9.13"
  }
 },
 "nbformat": 4,
 "nbformat_minor": 5
}
