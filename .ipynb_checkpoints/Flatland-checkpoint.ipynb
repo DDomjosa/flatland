{
 "cells": [
  {
   "cell_type": "code",
   "execution_count": 1,
   "id": "a98047ad",
   "metadata": {
    "executionInfo": {
     "elapsed": 33,
     "status": "ok",
     "timestamp": 1667736365400,
     "user": {
      "displayName": "DDomjosa",
      "userId": "08635069532973972876"
     },
     "user_tz": -120
    },
    "id": "10f6d9b8"
   },
   "outputs": [
    {
     "data": {
      "text/plain": [
       "[PhysicalDevice(name='/physical_device:CPU:0', device_type='CPU'),\n",
       " PhysicalDevice(name='/physical_device:GPU:0', device_type='GPU'),\n",
       " PhysicalDevice(name='/physical_device:GPU:1', device_type='GPU')]"
      ]
     },
     "execution_count": 1,
     "metadata": {},
     "output_type": "execute_result"
    }
   ],
   "source": [
    "import tensorflow as tf\n",
    "from tensorflow import keras\n",
    "from collections import Counter\n",
    "import matplotlib.pyplot as plt\n",
    "import pandas as pd\n",
    "import numpy as np\n",
    "\n",
    "tf.config.list_physical_devices()"
   ]
  },
  {
   "cell_type": "code",
   "execution_count": 2,
   "id": "75ad9324",
   "metadata": {
    "executionInfo": {
     "elapsed": 374,
     "status": "ok",
     "timestamp": 1667736374562,
     "user": {
      "displayName": "DDomjosa",
      "userId": "08635069532973972876"
     },
     "user_tz": -120
    },
    "id": "3e783b3c"
   },
   "outputs": [],
   "source": [
    "data = np.load('flatland_train.npz')\n",
    "X = data['X']\n",
    "y = data['y']\n",
    "y[y != 0] -= 2    # Correct labels so that triangle is mapped to class 1\n",
    "X = X / 255.      # Scale down to range [0, 1]"
   ]
  },
  {
   "cell_type": "code",
   "execution_count": 3,
   "id": "da138b13",
   "metadata": {
    "colab": {
     "base_uri": "https://localhost:8080/"
    },
    "executionInfo": {
     "elapsed": 14,
     "status": "ok",
     "timestamp": 1667736374562,
     "user": {
      "displayName": "DDomjosa",
      "userId": "08635069532973972876"
     },
     "user_tz": -120
    },
    "id": "5b3a4235",
    "outputId": "50a4aa12-cd7b-4843-c3f5-e7b0af2244ca"
   },
   "outputs": [
    {
     "data": {
      "text/plain": [
       "<matplotlib.image.AxesImage at 0x1e4a399e940>"
      ]
     },
     "execution_count": 3,
     "metadata": {},
     "output_type": "execute_result"
    },
    {
     "data": {
      "image/png": "[encoded data removed]",
      "text/plain": [
       "<Figure size 640x480 with 1 Axes>"
      ]
     },
     "metadata": {},
     "output_type": "display_data"
    }
   ],
   "source": [
    "plt.imshow(X[5], cmap = 'gray')"
   ]
  },
  {
   "cell_type": "code",
   "execution_count": 4,
   "id": "22eacc52",
   "metadata": {},
   "outputs": [
    {
     "data": {
      "text/plain": [
       "(10000, 50, 50)"
      ]
     },
     "execution_count": 4,
     "metadata": {},
     "output_type": "execute_result"
    }
   ],
   "source": [
    "X.shape"
   ]
  },
  {
   "cell_type": "code",
   "execution_count": 5,
   "id": "0324488d",
   "metadata": {
    "colab": {
     "base_uri": "https://localhost:8080/"
    },
    "executionInfo": {
     "elapsed": 14,
     "status": "ok",
     "timestamp": 1667736374563,
     "user": {
      "displayName": "DDomjosa",
      "userId": "08635069532973972876"
     },
     "user_tz": -120
    },
    "id": "9a8117e0",
    "outputId": "60207a8f-c6ad-4630-dc88-d574189ec8d0",
    "scrolled": true
   },
   "outputs": [
    {
     "data": {
      "text/plain": [
       "Counter({2.0: 1868, 4.0: 1761, 3.0: 2137, 1.0: 2853, 0.0: 1381})"
      ]
     },
     "execution_count": 5,
     "metadata": {},
     "output_type": "execute_result"
    }
   ],
   "source": [
    "Counter(y)"
   ]
  },
  {
   "cell_type": "code",
   "execution_count": 6,
   "id": "0133a22e",
   "metadata": {
    "executionInfo": {
     "elapsed": 346,
     "status": "ok",
     "timestamp": 1667736375433,
     "user": {
      "displayName": "DDomjosa",
      "userId": "08635069532973972876"
     },
     "user_tz": -120
    },
    "id": "17798147"
   },
   "outputs": [],
   "source": [
    "#X_train_aug = np.concatenate([X_train, X_train[..., ::-1]])\n",
    "#y_train_aug = np.concatenate([y_train, y_train])"
   ]
  },
  {
   "cell_type": "code",
   "execution_count": 7,
   "id": "fcd5142d",
   "metadata": {
    "colab": {
     "background_save": true,
     "base_uri": "https://localhost:8080/"
    },
    "id": "d3e25e03",
    "scrolled": false
   },
   "outputs": [
    {
     "name": "stdout",
     "output_type": "stream",
     "text": [
      "Model: \"model\"\n",
      "_________________________________________________________________\n",
      " Layer (type)                Output Shape              Param #   \n",
      "=================================================================\n",
      " input_1 (InputLayer)        [(None, 50, 50)]          0         \n",
      "                                                                 \n",
      " flatten (Flatten)           (None, 2500)              0         \n",
      "                                                                 \n",
      " dense (Dense)               (None, 2500)              6252500   \n",
      "                                                                 \n",
      " dense_1 (Dense)             (None, 300)               750300    \n",
      "                                                                 \n",
      " dense_2 (Dense)             (None, 100)               30100     \n",
      "                                                                 \n",
      " dense_3 (Dense)             (None, 5)                 505       \n",
      "                                                                 \n",
      "=================================================================\n",
      "Total params: 7,033,405\n",
      "Trainable params: 7,033,405\n",
      "Non-trainable params: 0\n",
      "_________________________________________________________________\n",
      "Epoch 1/30\n",
      "250/250 [==============================] - 3s 7ms/step - loss: 1.2556 - accuracy: 0.4669 - val_loss: 1.1282 - val_accuracy: 0.5030\n",
      "Epoch 2/30\n",
      "250/250 [==============================] - 2s 6ms/step - loss: 0.9941 - accuracy: 0.5830 - val_loss: 0.9360 - val_accuracy: 0.6050\n",
      "Epoch 3/30\n",
      "250/250 [==============================] - 2s 6ms/step - loss: 0.7610 - accuracy: 0.6844 - val_loss: 0.7289 - val_accuracy: 0.7020\n",
      "Epoch 4/30\n",
      "250/250 [==============================] - 2s 6ms/step - loss: 0.6486 - accuracy: 0.7359 - val_loss: 0.6715 - val_accuracy: 0.7360\n",
      "Epoch 5/30\n",
      "250/250 [==============================] - 2s 6ms/step - loss: 0.5890 - accuracy: 0.7549 - val_loss: 0.6417 - val_accuracy: 0.7280\n",
      "Epoch 6/30\n",
      "250/250 [==============================] - 2s 6ms/step - loss: 0.5191 - accuracy: 0.7865 - val_loss: 0.5686 - val_accuracy: 0.7790\n",
      "Epoch 7/30\n",
      "250/250 [==============================] - 2s 6ms/step - loss: 0.4844 - accuracy: 0.7993 - val_loss: 0.5700 - val_accuracy: 0.7625\n",
      "Epoch 8/30\n",
      "250/250 [==============================] - 2s 6ms/step - loss: 0.4424 - accuracy: 0.8164 - val_loss: 0.6597 - val_accuracy: 0.7285\n",
      "Epoch 9/30\n",
      "250/250 [==============================] - 2s 6ms/step - loss: 0.4086 - accuracy: 0.8258 - val_loss: 0.5344 - val_accuracy: 0.7915\n",
      "Epoch 10/30\n",
      "250/250 [==============================] - 2s 6ms/step - loss: 0.3780 - accuracy: 0.8424 - val_loss: 0.5519 - val_accuracy: 0.7895\n",
      "Epoch 11/30\n",
      "250/250 [==============================] - 2s 6ms/step - loss: 0.3491 - accuracy: 0.8578 - val_loss: 0.5672 - val_accuracy: 0.7720\n",
      "Epoch 12/30\n",
      "250/250 [==============================] - 2s 6ms/step - loss: 0.3243 - accuracy: 0.8693 - val_loss: 0.5062 - val_accuracy: 0.8060\n",
      "Epoch 13/30\n",
      "250/250 [==============================] - 2s 6ms/step - loss: 0.2796 - accuracy: 0.8895 - val_loss: 0.4567 - val_accuracy: 0.8385\n",
      "Epoch 14/30\n",
      "250/250 [==============================] - 2s 7ms/step - loss: 0.2509 - accuracy: 0.9029 - val_loss: 0.4420 - val_accuracy: 0.8540\n",
      "Epoch 15/30\n",
      "250/250 [==============================] - 2s 6ms/step - loss: 0.2254 - accuracy: 0.9116 - val_loss: 0.4758 - val_accuracy: 0.8460\n",
      "Epoch 16/30\n",
      "250/250 [==============================] - 2s 6ms/step - loss: 0.2039 - accuracy: 0.9204 - val_loss: 0.4222 - val_accuracy: 0.8625\n",
      "Epoch 17/30\n",
      "250/250 [==============================] - 2s 6ms/step - loss: 0.1976 - accuracy: 0.9258 - val_loss: 0.5093 - val_accuracy: 0.8335\n",
      "Epoch 18/30\n",
      "250/250 [==============================] - 2s 6ms/step - loss: 0.1758 - accuracy: 0.9339 - val_loss: 0.4153 - val_accuracy: 0.8915\n",
      "Epoch 19/30\n",
      "250/250 [==============================] - 2s 6ms/step - loss: 0.1670 - accuracy: 0.9364 - val_loss: 0.4145 - val_accuracy: 0.8850\n",
      "Epoch 20/30\n",
      "250/250 [==============================] - 2s 6ms/step - loss: 0.1397 - accuracy: 0.9514 - val_loss: 0.4775 - val_accuracy: 0.8630\n",
      "Epoch 21/30\n",
      "250/250 [==============================] - 2s 6ms/step - loss: 0.1282 - accuracy: 0.9529 - val_loss: 0.4713 - val_accuracy: 0.8740\n",
      "Epoch 22/30\n",
      "250/250 [==============================] - 2s 7ms/step - loss: 0.1261 - accuracy: 0.9548 - val_loss: 0.4326 - val_accuracy: 0.8905\n",
      "Epoch 23/30\n",
      "250/250 [==============================] - 2s 6ms/step - loss: 0.1082 - accuracy: 0.9643 - val_loss: 0.4703 - val_accuracy: 0.8675\n",
      "Epoch 24/30\n",
      "250/250 [==============================] - 2s 6ms/step - loss: 0.0972 - accuracy: 0.9656 - val_loss: 0.4466 - val_accuracy: 0.8920\n",
      "Epoch 25/30\n",
      "250/250 [==============================] - 2s 6ms/step - loss: 0.1134 - accuracy: 0.9558 - val_loss: 0.5064 - val_accuracy: 0.8555\n",
      "Epoch 26/30\n",
      "250/250 [==============================] - 2s 6ms/step - loss: 0.0986 - accuracy: 0.9643 - val_loss: 0.4240 - val_accuracy: 0.8985\n",
      "Epoch 27/30\n",
      "250/250 [==============================] - 2s 6ms/step - loss: 0.0870 - accuracy: 0.9694 - val_loss: 0.4823 - val_accuracy: 0.8690\n",
      "Epoch 28/30\n",
      "250/250 [==============================] - 2s 6ms/step - loss: 0.0914 - accuracy: 0.9664 - val_loss: 0.4562 - val_accuracy: 0.8965\n",
      "Epoch 29/30\n",
      "250/250 [==============================] - 2s 6ms/step - loss: 0.0801 - accuracy: 0.9713 - val_loss: 0.4308 - val_accuracy: 0.8975\n",
      "Epoch 30/30\n",
      "250/250 [==============================] - 2s 6ms/step - loss: 0.0783 - accuracy: 0.9733 - val_loss: 0.4123 - val_accuracy: 0.9080\n"
     ]
    }
   ],
   "source": [
    "inp = keras.layers.Input(shape = (50, 50));\n",
    "out = keras.layers.Flatten()(inp);\n",
    "out = keras.layers.Dense(2500, activation = 'relu')(out);\n",
    "out = keras.layers.Dense(300, activation = 'relu')(out);\n",
    "out = keras.layers.Dense(100, activation = 'relu')(out);\n",
    "#out = keras.layers.Dropout(0.4)(out);\n",
    "out = keras.layers.Dense(5, activation = 'softmax')(out);\n",
    "\n",
    "model = keras.models.Model(inputs = inp, outputs = out);\n",
    "model.compile(optimizer = keras.optimizers.Adam(learning_rate = 3e-4), loss = 'sparse_categorical_crossentropy', metrics = ['accuracy']);\n",
    "model.summary();\n",
    "\n",
    "hist = model.fit(X, y, validation_split = 0.2, epochs = 30)"
   ]
  },
  {
   "cell_type": "code",
   "execution_count": 8,
   "id": "e8b0683f",
   "metadata": {
    "id": "3d888d83"
   },
   "outputs": [
    {
     "data": {
      "image/png": "[encoded data removed]",
      "text/plain": [
       "<Figure size 640x480 with 1 Axes>"
      ]
     },
     "metadata": {},
     "output_type": "display_data"
    }
   ],
   "source": [
    "pd.DataFrame(hist.history).plot()\n",
    "model.save('model.h5')"
   ]
  },
  {
   "cell_type": "code",
   "execution_count": null,
   "id": "9200eb18",
   "metadata": {
    "id": "ae85f9eb"
   },
   "outputs": [],
   "source": []
  }
 ],
 "metadata": {
  "accelerator": "GPU",
  "colab": {
   "collapsed_sections": [],
   "name": "",
   "version": ""
  },
  "gpuClass": "standard",
  "kernelspec": {
   "display_name": "Python [conda env:py3.9]",
   "language": "python",
   "name": "conda-env-py3.9-py"
  },
  "language_info": {
   "codemirror_mode": {
    "name": "ipython",
    "version": 3
   },
   "file_extension": ".py",
   "mimetype": "text/x-python",
   "name": "python",
   "nbconvert_exporter": "python",
   "pygments_lexer": "ipython3",
   "version": "3.9.13"
  }
 },
 "nbformat": 4,
 "nbformat_minor": 5
}
